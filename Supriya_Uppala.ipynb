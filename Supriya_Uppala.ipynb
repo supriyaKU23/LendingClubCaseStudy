{
 "cells": [
  {
   "cell_type": "markdown",
   "id": "7fcaa382-ea2b-41c8-a70d-915136cbae9a",
   "metadata": {},
   "source": [
    "# Assignment: Lending Club Case Study\n",
    "Team : Supriya Uppala and Tamilarasan\n",
    "\n",
    "Date :"
   ]
  },
  {
   "cell_type": "markdown",
   "id": "abd200ad-7c0a-418b-8f82-64d1ac05441b",
   "metadata": {
    "jp-MarkdownHeadingCollapsed": true
   },
   "source": [
    "# Business Understanding\n",
    "We are working for a consumer finance company specializing in lending various loans to urban customers. When the company receives a loan\n",
    "application, the company has to decide for loan approval based on the applicant’s profile. Two types of risks are associated with the bank’s\n",
    "decision:\n",
    "\n",
    "- If the applicant is likely to repay the loan, then not approving the loan results in a loss of business to the company\n",
    "\n",
    "- If the applicant is not likely to repay the loan, i.e. he/she is expected to default, then approving the loan may lead to a financial loss for the companypany"
   ]
  },
  {
   "cell_type": "markdown",
   "id": "88626d23-18b1-4b55-85f7-18ae8dd103e8",
   "metadata": {},
   "source": [
    "# Objective\n",
    "The company wants to understand the driving factors (or driver variables) behind loan default, i.e. the variables which are strong indicators of default.  The company can utilise this knowledge for its portfolio and risk assessment"
   ]
  },
  {
   "cell_type": "code",
   "execution_count": 223,
   "id": "0919a34e-8db6-4a44-9ac4-1274a79d0986",
   "metadata": {},
   "outputs": [],
   "source": [
    "# Important Libraries\n",
    "import numpy as np\n",
    "import pandas as pd\n",
    "import matplotlib.pyplot as plot\n",
    "import seaborn as sea\n",
    "import datetime as dt\n",
    "from IPython.core.display import HTML\n",
    "import warnings\n",
    "\n",
    "warnings.filterwarnings('ignore') # to ignore the warnings"
   ]
  },
  {
   "cell_type": "markdown",
   "id": "04c02091-ffe1-4186-99cb-410b1c8a9923",
   "metadata": {},
   "source": [
    "# 1. Data Cleaning"
   ]
  },
  {
   "cell_type": "markdown",
   "id": "b0610303-f41a-425e-869e-279d082112b9",
   "metadata": {},
   "source": [
    "### 1.1 To check if there is any headers/footers or summary details rows are there and delete it."
   ]
  },
  {
   "cell_type": "code",
   "execution_count": 224,
   "id": "ee5fbce3-fe4d-48e6-87a1-e4a076902491",
   "metadata": {},
   "outputs": [
    {
     "data": {
      "text/html": [
       "<div>\n",
       "<style scoped>\n",
       "    .dataframe tbody tr th:only-of-type {\n",
       "        vertical-align: middle;\n",
       "    }\n",
       "\n",
       "    .dataframe tbody tr th {\n",
       "        vertical-align: top;\n",
       "    }\n",
       "\n",
       "    .dataframe thead th {\n",
       "        text-align: right;\n",
       "    }\n",
       "</style>\n",
       "<table border=\"1\" class=\"dataframe\">\n",
       "  <thead>\n",
       "    <tr style=\"text-align: right;\">\n",
       "      <th></th>\n",
       "      <th>id</th>\n",
       "      <th>member_id</th>\n",
       "      <th>loan_amnt</th>\n",
       "      <th>funded_amnt</th>\n",
       "      <th>funded_amnt_inv</th>\n",
       "      <th>term</th>\n",
       "      <th>int_rate</th>\n",
       "      <th>installment</th>\n",
       "      <th>grade</th>\n",
       "      <th>sub_grade</th>\n",
       "      <th>...</th>\n",
       "      <th>num_tl_90g_dpd_24m</th>\n",
       "      <th>num_tl_op_past_12m</th>\n",
       "      <th>pct_tl_nvr_dlq</th>\n",
       "      <th>percent_bc_gt_75</th>\n",
       "      <th>pub_rec_bankruptcies</th>\n",
       "      <th>tax_liens</th>\n",
       "      <th>tot_hi_cred_lim</th>\n",
       "      <th>total_bal_ex_mort</th>\n",
       "      <th>total_bc_limit</th>\n",
       "      <th>total_il_high_credit_limit</th>\n",
       "    </tr>\n",
       "  </thead>\n",
       "  <tbody>\n",
       "    <tr>\n",
       "      <th>0</th>\n",
       "      <td>1077501</td>\n",
       "      <td>1296599</td>\n",
       "      <td>5000</td>\n",
       "      <td>5000</td>\n",
       "      <td>4975.0</td>\n",
       "      <td>36 months</td>\n",
       "      <td>10.65%</td>\n",
       "      <td>162.87</td>\n",
       "      <td>B</td>\n",
       "      <td>B2</td>\n",
       "      <td>...</td>\n",
       "      <td>NaN</td>\n",
       "      <td>NaN</td>\n",
       "      <td>NaN</td>\n",
       "      <td>NaN</td>\n",
       "      <td>0.0</td>\n",
       "      <td>0.0</td>\n",
       "      <td>NaN</td>\n",
       "      <td>NaN</td>\n",
       "      <td>NaN</td>\n",
       "      <td>NaN</td>\n",
       "    </tr>\n",
       "    <tr>\n",
       "      <th>1</th>\n",
       "      <td>1077430</td>\n",
       "      <td>1314167</td>\n",
       "      <td>2500</td>\n",
       "      <td>2500</td>\n",
       "      <td>2500.0</td>\n",
       "      <td>60 months</td>\n",
       "      <td>15.27%</td>\n",
       "      <td>59.83</td>\n",
       "      <td>C</td>\n",
       "      <td>C4</td>\n",
       "      <td>...</td>\n",
       "      <td>NaN</td>\n",
       "      <td>NaN</td>\n",
       "      <td>NaN</td>\n",
       "      <td>NaN</td>\n",
       "      <td>0.0</td>\n",
       "      <td>0.0</td>\n",
       "      <td>NaN</td>\n",
       "      <td>NaN</td>\n",
       "      <td>NaN</td>\n",
       "      <td>NaN</td>\n",
       "    </tr>\n",
       "    <tr>\n",
       "      <th>2</th>\n",
       "      <td>1077175</td>\n",
       "      <td>1313524</td>\n",
       "      <td>2400</td>\n",
       "      <td>2400</td>\n",
       "      <td>2400.0</td>\n",
       "      <td>36 months</td>\n",
       "      <td>15.96%</td>\n",
       "      <td>84.33</td>\n",
       "      <td>C</td>\n",
       "      <td>C5</td>\n",
       "      <td>...</td>\n",
       "      <td>NaN</td>\n",
       "      <td>NaN</td>\n",
       "      <td>NaN</td>\n",
       "      <td>NaN</td>\n",
       "      <td>0.0</td>\n",
       "      <td>0.0</td>\n",
       "      <td>NaN</td>\n",
       "      <td>NaN</td>\n",
       "      <td>NaN</td>\n",
       "      <td>NaN</td>\n",
       "    </tr>\n",
       "    <tr>\n",
       "      <th>3</th>\n",
       "      <td>1076863</td>\n",
       "      <td>1277178</td>\n",
       "      <td>10000</td>\n",
       "      <td>10000</td>\n",
       "      <td>10000.0</td>\n",
       "      <td>36 months</td>\n",
       "      <td>13.49%</td>\n",
       "      <td>339.31</td>\n",
       "      <td>C</td>\n",
       "      <td>C1</td>\n",
       "      <td>...</td>\n",
       "      <td>NaN</td>\n",
       "      <td>NaN</td>\n",
       "      <td>NaN</td>\n",
       "      <td>NaN</td>\n",
       "      <td>0.0</td>\n",
       "      <td>0.0</td>\n",
       "      <td>NaN</td>\n",
       "      <td>NaN</td>\n",
       "      <td>NaN</td>\n",
       "      <td>NaN</td>\n",
       "    </tr>\n",
       "    <tr>\n",
       "      <th>4</th>\n",
       "      <td>1075358</td>\n",
       "      <td>1311748</td>\n",
       "      <td>3000</td>\n",
       "      <td>3000</td>\n",
       "      <td>3000.0</td>\n",
       "      <td>60 months</td>\n",
       "      <td>12.69%</td>\n",
       "      <td>67.79</td>\n",
       "      <td>B</td>\n",
       "      <td>B5</td>\n",
       "      <td>...</td>\n",
       "      <td>NaN</td>\n",
       "      <td>NaN</td>\n",
       "      <td>NaN</td>\n",
       "      <td>NaN</td>\n",
       "      <td>0.0</td>\n",
       "      <td>0.0</td>\n",
       "      <td>NaN</td>\n",
       "      <td>NaN</td>\n",
       "      <td>NaN</td>\n",
       "      <td>NaN</td>\n",
       "    </tr>\n",
       "  </tbody>\n",
       "</table>\n",
       "<p>5 rows × 111 columns</p>\n",
       "</div>"
      ],
      "text/plain": [
       "        id  member_id  loan_amnt  funded_amnt  funded_amnt_inv        term  \\\n",
       "0  1077501    1296599       5000         5000           4975.0   36 months   \n",
       "1  1077430    1314167       2500         2500           2500.0   60 months   \n",
       "2  1077175    1313524       2400         2400           2400.0   36 months   \n",
       "3  1076863    1277178      10000        10000          10000.0   36 months   \n",
       "4  1075358    1311748       3000         3000           3000.0   60 months   \n",
       "\n",
       "  int_rate  installment grade sub_grade  ... num_tl_90g_dpd_24m  \\\n",
       "0   10.65%       162.87     B        B2  ...                NaN   \n",
       "1   15.27%        59.83     C        C4  ...                NaN   \n",
       "2   15.96%        84.33     C        C5  ...                NaN   \n",
       "3   13.49%       339.31     C        C1  ...                NaN   \n",
       "4   12.69%        67.79     B        B5  ...                NaN   \n",
       "\n",
       "  num_tl_op_past_12m pct_tl_nvr_dlq  percent_bc_gt_75 pub_rec_bankruptcies  \\\n",
       "0                NaN            NaN               NaN                  0.0   \n",
       "1                NaN            NaN               NaN                  0.0   \n",
       "2                NaN            NaN               NaN                  0.0   \n",
       "3                NaN            NaN               NaN                  0.0   \n",
       "4                NaN            NaN               NaN                  0.0   \n",
       "\n",
       "  tax_liens tot_hi_cred_lim total_bal_ex_mort total_bc_limit  \\\n",
       "0       0.0             NaN               NaN            NaN   \n",
       "1       0.0             NaN               NaN            NaN   \n",
       "2       0.0             NaN               NaN            NaN   \n",
       "3       0.0             NaN               NaN            NaN   \n",
       "4       0.0             NaN               NaN            NaN   \n",
       "\n",
       "  total_il_high_credit_limit  \n",
       "0                        NaN  \n",
       "1                        NaN  \n",
       "2                        NaN  \n",
       "3                        NaN  \n",
       "4                        NaN  \n",
       "\n",
       "[5 rows x 111 columns]"
      ]
     },
     "execution_count": 224,
     "metadata": {},
     "output_type": "execute_result"
    }
   ],
   "source": [
    "# Loading the loan data and converting into dataframe\n",
    "# Giving the local path to the dataset as a parameter in the below lines of code\n",
    "loan_df = pd.read_csv(\"loan.csv\")\n",
    "\n",
    "# To view a glimpse of loan dataset and its various parameters\n",
    "loan_df.head()"
   ]
  },
  {
   "cell_type": "code",
   "execution_count": 225,
   "id": "3aab07af-24d2-422c-972f-3a74f82c14d9",
   "metadata": {},
   "outputs": [
    {
     "data": {
      "text/plain": [
       "(39717, 111)"
      ]
     },
     "execution_count": 225,
     "metadata": {},
     "output_type": "execute_result"
    }
   ],
   "source": [
    "# Let us check the shape of the dataset\n",
    "loan_df.shape\n",
    "# Number of rows: 39717, and Number of columns: 111"
   ]
  },
  {
   "cell_type": "code",
   "execution_count": 226,
   "id": "9ce0c9ba-d052-4b4c-a015-0686e02a8658",
   "metadata": {},
   "outputs": [
    {
     "data": {
      "text/html": [
       "<div>\n",
       "<style scoped>\n",
       "    .dataframe tbody tr th:only-of-type {\n",
       "        vertical-align: middle;\n",
       "    }\n",
       "\n",
       "    .dataframe tbody tr th {\n",
       "        vertical-align: top;\n",
       "    }\n",
       "\n",
       "    .dataframe thead th {\n",
       "        text-align: right;\n",
       "    }\n",
       "</style>\n",
       "<table border=\"1\" class=\"dataframe\">\n",
       "  <thead>\n",
       "    <tr style=\"text-align: right;\">\n",
       "      <th></th>\n",
       "      <th>id</th>\n",
       "      <th>member_id</th>\n",
       "      <th>loan_amnt</th>\n",
       "      <th>funded_amnt</th>\n",
       "      <th>funded_amnt_inv</th>\n",
       "      <th>term</th>\n",
       "      <th>int_rate</th>\n",
       "      <th>installment</th>\n",
       "      <th>grade</th>\n",
       "      <th>sub_grade</th>\n",
       "      <th>...</th>\n",
       "      <th>num_tl_90g_dpd_24m</th>\n",
       "      <th>num_tl_op_past_12m</th>\n",
       "      <th>pct_tl_nvr_dlq</th>\n",
       "      <th>percent_bc_gt_75</th>\n",
       "      <th>pub_rec_bankruptcies</th>\n",
       "      <th>tax_liens</th>\n",
       "      <th>tot_hi_cred_lim</th>\n",
       "      <th>total_bal_ex_mort</th>\n",
       "      <th>total_bc_limit</th>\n",
       "      <th>total_il_high_credit_limit</th>\n",
       "    </tr>\n",
       "  </thead>\n",
       "  <tbody>\n",
       "    <tr>\n",
       "      <th>39712</th>\n",
       "      <td>92187</td>\n",
       "      <td>92174</td>\n",
       "      <td>2500</td>\n",
       "      <td>2500</td>\n",
       "      <td>1075.0</td>\n",
       "      <td>36 months</td>\n",
       "      <td>8.07%</td>\n",
       "      <td>78.42</td>\n",
       "      <td>A</td>\n",
       "      <td>A4</td>\n",
       "      <td>...</td>\n",
       "      <td>NaN</td>\n",
       "      <td>NaN</td>\n",
       "      <td>NaN</td>\n",
       "      <td>NaN</td>\n",
       "      <td>NaN</td>\n",
       "      <td>NaN</td>\n",
       "      <td>NaN</td>\n",
       "      <td>NaN</td>\n",
       "      <td>NaN</td>\n",
       "      <td>NaN</td>\n",
       "    </tr>\n",
       "    <tr>\n",
       "      <th>39713</th>\n",
       "      <td>90665</td>\n",
       "      <td>90607</td>\n",
       "      <td>8500</td>\n",
       "      <td>8500</td>\n",
       "      <td>875.0</td>\n",
       "      <td>36 months</td>\n",
       "      <td>10.28%</td>\n",
       "      <td>275.38</td>\n",
       "      <td>C</td>\n",
       "      <td>C1</td>\n",
       "      <td>...</td>\n",
       "      <td>NaN</td>\n",
       "      <td>NaN</td>\n",
       "      <td>NaN</td>\n",
       "      <td>NaN</td>\n",
       "      <td>NaN</td>\n",
       "      <td>NaN</td>\n",
       "      <td>NaN</td>\n",
       "      <td>NaN</td>\n",
       "      <td>NaN</td>\n",
       "      <td>NaN</td>\n",
       "    </tr>\n",
       "    <tr>\n",
       "      <th>39714</th>\n",
       "      <td>90395</td>\n",
       "      <td>90390</td>\n",
       "      <td>5000</td>\n",
       "      <td>5000</td>\n",
       "      <td>1325.0</td>\n",
       "      <td>36 months</td>\n",
       "      <td>8.07%</td>\n",
       "      <td>156.84</td>\n",
       "      <td>A</td>\n",
       "      <td>A4</td>\n",
       "      <td>...</td>\n",
       "      <td>NaN</td>\n",
       "      <td>NaN</td>\n",
       "      <td>NaN</td>\n",
       "      <td>NaN</td>\n",
       "      <td>NaN</td>\n",
       "      <td>NaN</td>\n",
       "      <td>NaN</td>\n",
       "      <td>NaN</td>\n",
       "      <td>NaN</td>\n",
       "      <td>NaN</td>\n",
       "    </tr>\n",
       "    <tr>\n",
       "      <th>39715</th>\n",
       "      <td>90376</td>\n",
       "      <td>89243</td>\n",
       "      <td>5000</td>\n",
       "      <td>5000</td>\n",
       "      <td>650.0</td>\n",
       "      <td>36 months</td>\n",
       "      <td>7.43%</td>\n",
       "      <td>155.38</td>\n",
       "      <td>A</td>\n",
       "      <td>A2</td>\n",
       "      <td>...</td>\n",
       "      <td>NaN</td>\n",
       "      <td>NaN</td>\n",
       "      <td>NaN</td>\n",
       "      <td>NaN</td>\n",
       "      <td>NaN</td>\n",
       "      <td>NaN</td>\n",
       "      <td>NaN</td>\n",
       "      <td>NaN</td>\n",
       "      <td>NaN</td>\n",
       "      <td>NaN</td>\n",
       "    </tr>\n",
       "    <tr>\n",
       "      <th>39716</th>\n",
       "      <td>87023</td>\n",
       "      <td>86999</td>\n",
       "      <td>7500</td>\n",
       "      <td>7500</td>\n",
       "      <td>800.0</td>\n",
       "      <td>36 months</td>\n",
       "      <td>13.75%</td>\n",
       "      <td>255.43</td>\n",
       "      <td>E</td>\n",
       "      <td>E2</td>\n",
       "      <td>...</td>\n",
       "      <td>NaN</td>\n",
       "      <td>NaN</td>\n",
       "      <td>NaN</td>\n",
       "      <td>NaN</td>\n",
       "      <td>NaN</td>\n",
       "      <td>NaN</td>\n",
       "      <td>NaN</td>\n",
       "      <td>NaN</td>\n",
       "      <td>NaN</td>\n",
       "      <td>NaN</td>\n",
       "    </tr>\n",
       "  </tbody>\n",
       "</table>\n",
       "<p>5 rows × 111 columns</p>\n",
       "</div>"
      ],
      "text/plain": [
       "          id  member_id  loan_amnt  funded_amnt  funded_amnt_inv        term  \\\n",
       "39712  92187      92174       2500         2500           1075.0   36 months   \n",
       "39713  90665      90607       8500         8500            875.0   36 months   \n",
       "39714  90395      90390       5000         5000           1325.0   36 months   \n",
       "39715  90376      89243       5000         5000            650.0   36 months   \n",
       "39716  87023      86999       7500         7500            800.0   36 months   \n",
       "\n",
       "      int_rate  installment grade sub_grade  ... num_tl_90g_dpd_24m  \\\n",
       "39712    8.07%        78.42     A        A4  ...                NaN   \n",
       "39713   10.28%       275.38     C        C1  ...                NaN   \n",
       "39714    8.07%       156.84     A        A4  ...                NaN   \n",
       "39715    7.43%       155.38     A        A2  ...                NaN   \n",
       "39716   13.75%       255.43     E        E2  ...                NaN   \n",
       "\n",
       "      num_tl_op_past_12m pct_tl_nvr_dlq  percent_bc_gt_75  \\\n",
       "39712                NaN            NaN               NaN   \n",
       "39713                NaN            NaN               NaN   \n",
       "39714                NaN            NaN               NaN   \n",
       "39715                NaN            NaN               NaN   \n",
       "39716                NaN            NaN               NaN   \n",
       "\n",
       "      pub_rec_bankruptcies tax_liens tot_hi_cred_lim total_bal_ex_mort  \\\n",
       "39712                  NaN       NaN             NaN               NaN   \n",
       "39713                  NaN       NaN             NaN               NaN   \n",
       "39714                  NaN       NaN             NaN               NaN   \n",
       "39715                  NaN       NaN             NaN               NaN   \n",
       "39716                  NaN       NaN             NaN               NaN   \n",
       "\n",
       "      total_bc_limit total_il_high_credit_limit  \n",
       "39712            NaN                        NaN  \n",
       "39713            NaN                        NaN  \n",
       "39714            NaN                        NaN  \n",
       "39715            NaN                        NaN  \n",
       "39716            NaN                        NaN  \n",
       "\n",
       "[5 rows x 111 columns]"
      ]
     },
     "execution_count": 226,
     "metadata": {},
     "output_type": "execute_result"
    }
   ],
   "source": [
    "# We can see that there is no headers or summary row presents from above dataframe. Lets check for footers rows.\n",
    "loan_df.tail()"
   ]
  },
  {
   "cell_type": "code",
   "execution_count": 227,
   "id": "c6b9b251-6108-4dfa-b1fd-be76106df373",
   "metadata": {},
   "outputs": [
    {
     "data": {
      "text/plain": [
       "loan_status\n",
       "Fully Paid     32950\n",
       "Charged Off     5627\n",
       "Current         1140\n",
       "Name: count, dtype: int64"
      ]
     },
     "execution_count": 227,
     "metadata": {},
     "output_type": "execute_result"
    }
   ],
   "source": [
    "# Checking the loan status column if there are any unnecessary rows\n",
    "loan_df['loan_status'].value_counts()"
   ]
  },
  {
   "cell_type": "code",
   "execution_count": 228,
   "id": "06cf9b88-8289-4c53-82eb-062c9fbd4b2a",
   "metadata": {},
   "outputs": [
    {
     "name": "stdout",
     "output_type": "stream",
     "text": [
      "Total number of rows now: 38577\n"
     ]
    }
   ],
   "source": [
    "#Dropping the rows for loan_status=='Current' as the loan currently in progress and cannot contribute to conclusive evidence if the customer will default of pay in future.\n",
    "loan_df= loan_df[loan_df['loan_status']!='Current']\n",
    "print(\"Total number of rows now:\",len(loan_df)) ## Total no of rows now."
   ]
  },
  {
   "cell_type": "markdown",
   "id": "b8e9a738-d16b-4a20-9fd6-48000d9e0414",
   "metadata": {},
   "source": [
    "### 1.2 Delete the Uneccessasry Columns."
   ]
  },
  {
   "cell_type": "code",
   "execution_count": 229,
   "id": "ec70e3a1-5c8f-4754-a010-a856a05fca87",
   "metadata": {},
   "outputs": [
    {
     "data": {
      "text/plain": [
       "(38577, 111)"
      ]
     },
     "execution_count": 229,
     "metadata": {},
     "output_type": "execute_result"
    }
   ],
   "source": [
    "loan_df.shape # to get the shape of data"
   ]
  },
  {
   "cell_type": "code",
   "execution_count": 230,
   "id": "518c47a3-9fec-43db-80be-a4d690f569f0",
   "metadata": {},
   "outputs": [
    {
     "data": {
      "text/plain": [
       "id                              0.000000\n",
       "member_id                       0.000000\n",
       "loan_amnt                       0.000000\n",
       "funded_amnt                     0.000000\n",
       "funded_amnt_inv                 0.000000\n",
       "                                 ...    \n",
       "tax_liens                       0.101097\n",
       "tot_hi_cred_lim               100.000000\n",
       "total_bal_ex_mort             100.000000\n",
       "total_bc_limit                100.000000\n",
       "total_il_high_credit_limit    100.000000\n",
       "Length: 111, dtype: float64"
      ]
     },
     "execution_count": 230,
     "metadata": {},
     "output_type": "execute_result"
    }
   ],
   "source": [
    "# To Check the details of columns if the they are nulls or blanks as value.\n",
    "(loan_df.isnull().sum()*100)/len(loan_df)"
   ]
  },
  {
   "cell_type": "code",
   "execution_count": 231,
   "id": "9334aa8a-ec92-48f1-8659-4f26ad2e7ed5",
   "metadata": {},
   "outputs": [
    {
     "name": "stdout",
     "output_type": "stream",
     "text": [
      "Total columns with values NA:  55\n",
      "NA colums List:\n"
     ]
    },
    {
     "data": {
      "text/plain": [
       "['next_pymnt_d',\n",
       " 'mths_since_last_major_derog',\n",
       " 'annual_inc_joint',\n",
       " 'dti_joint',\n",
       " 'verification_status_joint',\n",
       " 'tot_coll_amt',\n",
       " 'tot_cur_bal',\n",
       " 'open_acc_6m',\n",
       " 'open_il_6m',\n",
       " 'open_il_12m',\n",
       " 'open_il_24m',\n",
       " 'mths_since_rcnt_il',\n",
       " 'total_bal_il',\n",
       " 'il_util',\n",
       " 'open_rv_12m',\n",
       " 'open_rv_24m',\n",
       " 'max_bal_bc',\n",
       " 'all_util',\n",
       " 'total_rev_hi_lim',\n",
       " 'inq_fi',\n",
       " 'total_cu_tl',\n",
       " 'inq_last_12m',\n",
       " 'acc_open_past_24mths',\n",
       " 'avg_cur_bal',\n",
       " 'bc_open_to_buy',\n",
       " 'bc_util',\n",
       " 'mo_sin_old_il_acct',\n",
       " 'mo_sin_old_rev_tl_op',\n",
       " 'mo_sin_rcnt_rev_tl_op',\n",
       " 'mo_sin_rcnt_tl',\n",
       " 'mort_acc',\n",
       " 'mths_since_recent_bc',\n",
       " 'mths_since_recent_bc_dlq',\n",
       " 'mths_since_recent_inq',\n",
       " 'mths_since_recent_revol_delinq',\n",
       " 'num_accts_ever_120_pd',\n",
       " 'num_actv_bc_tl',\n",
       " 'num_actv_rev_tl',\n",
       " 'num_bc_sats',\n",
       " 'num_bc_tl',\n",
       " 'num_il_tl',\n",
       " 'num_op_rev_tl',\n",
       " 'num_rev_accts',\n",
       " 'num_rev_tl_bal_gt_0',\n",
       " 'num_sats',\n",
       " 'num_tl_120dpd_2m',\n",
       " 'num_tl_30dpd',\n",
       " 'num_tl_90g_dpd_24m',\n",
       " 'num_tl_op_past_12m',\n",
       " 'pct_tl_nvr_dlq',\n",
       " 'percent_bc_gt_75',\n",
       " 'tot_hi_cred_lim',\n",
       " 'total_bal_ex_mort',\n",
       " 'total_bc_limit',\n",
       " 'total_il_high_credit_limit']"
      ]
     },
     "execution_count": 231,
     "metadata": {},
     "output_type": "execute_result"
    }
   ],
   "source": [
    "# We can see that there are many columns that have all the values as null/blanks and don't participate in analysis.\n",
    "#Hence removing them\n",
    "print(\"Total columns with values NA: \", len(loan_df.columns[loan_df.isna().all()].tolist()))\n",
    "na_columns=list(loan_df.columns[loan_df.isna().all()])\n",
    "print(\"NA colums List:\")\n",
    "na_columns"
   ]
  },
  {
   "cell_type": "code",
   "execution_count": 232,
   "id": "52e2f414-d655-4d62-a0cb-37034249ad4f",
   "metadata": {},
   "outputs": [
    {
     "data": {
      "text/html": [
       "<div>\n",
       "<style scoped>\n",
       "    .dataframe tbody tr th:only-of-type {\n",
       "        vertical-align: middle;\n",
       "    }\n",
       "\n",
       "    .dataframe tbody tr th {\n",
       "        vertical-align: top;\n",
       "    }\n",
       "\n",
       "    .dataframe thead th {\n",
       "        text-align: right;\n",
       "    }\n",
       "</style>\n",
       "<table border=\"1\" class=\"dataframe\">\n",
       "  <thead>\n",
       "    <tr style=\"text-align: right;\">\n",
       "      <th></th>\n",
       "      <th>id</th>\n",
       "      <th>member_id</th>\n",
       "      <th>loan_amnt</th>\n",
       "      <th>funded_amnt</th>\n",
       "      <th>funded_amnt_inv</th>\n",
       "      <th>term</th>\n",
       "      <th>int_rate</th>\n",
       "      <th>installment</th>\n",
       "      <th>grade</th>\n",
       "      <th>sub_grade</th>\n",
       "      <th>...</th>\n",
       "      <th>last_pymnt_amnt</th>\n",
       "      <th>last_credit_pull_d</th>\n",
       "      <th>collections_12_mths_ex_med</th>\n",
       "      <th>policy_code</th>\n",
       "      <th>application_type</th>\n",
       "      <th>acc_now_delinq</th>\n",
       "      <th>chargeoff_within_12_mths</th>\n",
       "      <th>delinq_amnt</th>\n",
       "      <th>pub_rec_bankruptcies</th>\n",
       "      <th>tax_liens</th>\n",
       "    </tr>\n",
       "  </thead>\n",
       "  <tbody>\n",
       "    <tr>\n",
       "      <th>0</th>\n",
       "      <td>1077501</td>\n",
       "      <td>1296599</td>\n",
       "      <td>5000</td>\n",
       "      <td>5000</td>\n",
       "      <td>4975.0</td>\n",
       "      <td>36 months</td>\n",
       "      <td>10.65%</td>\n",
       "      <td>162.87</td>\n",
       "      <td>B</td>\n",
       "      <td>B2</td>\n",
       "      <td>...</td>\n",
       "      <td>171.62</td>\n",
       "      <td>May-16</td>\n",
       "      <td>0.0</td>\n",
       "      <td>1</td>\n",
       "      <td>INDIVIDUAL</td>\n",
       "      <td>0</td>\n",
       "      <td>0.0</td>\n",
       "      <td>0</td>\n",
       "      <td>0.0</td>\n",
       "      <td>0.0</td>\n",
       "    </tr>\n",
       "    <tr>\n",
       "      <th>1</th>\n",
       "      <td>1077430</td>\n",
       "      <td>1314167</td>\n",
       "      <td>2500</td>\n",
       "      <td>2500</td>\n",
       "      <td>2500.0</td>\n",
       "      <td>60 months</td>\n",
       "      <td>15.27%</td>\n",
       "      <td>59.83</td>\n",
       "      <td>C</td>\n",
       "      <td>C4</td>\n",
       "      <td>...</td>\n",
       "      <td>119.66</td>\n",
       "      <td>Sep-13</td>\n",
       "      <td>0.0</td>\n",
       "      <td>1</td>\n",
       "      <td>INDIVIDUAL</td>\n",
       "      <td>0</td>\n",
       "      <td>0.0</td>\n",
       "      <td>0</td>\n",
       "      <td>0.0</td>\n",
       "      <td>0.0</td>\n",
       "    </tr>\n",
       "    <tr>\n",
       "      <th>2</th>\n",
       "      <td>1077175</td>\n",
       "      <td>1313524</td>\n",
       "      <td>2400</td>\n",
       "      <td>2400</td>\n",
       "      <td>2400.0</td>\n",
       "      <td>36 months</td>\n",
       "      <td>15.96%</td>\n",
       "      <td>84.33</td>\n",
       "      <td>C</td>\n",
       "      <td>C5</td>\n",
       "      <td>...</td>\n",
       "      <td>649.91</td>\n",
       "      <td>May-16</td>\n",
       "      <td>0.0</td>\n",
       "      <td>1</td>\n",
       "      <td>INDIVIDUAL</td>\n",
       "      <td>0</td>\n",
       "      <td>0.0</td>\n",
       "      <td>0</td>\n",
       "      <td>0.0</td>\n",
       "      <td>0.0</td>\n",
       "    </tr>\n",
       "    <tr>\n",
       "      <th>3</th>\n",
       "      <td>1076863</td>\n",
       "      <td>1277178</td>\n",
       "      <td>10000</td>\n",
       "      <td>10000</td>\n",
       "      <td>10000.0</td>\n",
       "      <td>36 months</td>\n",
       "      <td>13.49%</td>\n",
       "      <td>339.31</td>\n",
       "      <td>C</td>\n",
       "      <td>C1</td>\n",
       "      <td>...</td>\n",
       "      <td>357.48</td>\n",
       "      <td>Apr-16</td>\n",
       "      <td>0.0</td>\n",
       "      <td>1</td>\n",
       "      <td>INDIVIDUAL</td>\n",
       "      <td>0</td>\n",
       "      <td>0.0</td>\n",
       "      <td>0</td>\n",
       "      <td>0.0</td>\n",
       "      <td>0.0</td>\n",
       "    </tr>\n",
       "    <tr>\n",
       "      <th>5</th>\n",
       "      <td>1075269</td>\n",
       "      <td>1311441</td>\n",
       "      <td>5000</td>\n",
       "      <td>5000</td>\n",
       "      <td>5000.0</td>\n",
       "      <td>36 months</td>\n",
       "      <td>7.90%</td>\n",
       "      <td>156.46</td>\n",
       "      <td>A</td>\n",
       "      <td>A4</td>\n",
       "      <td>...</td>\n",
       "      <td>161.03</td>\n",
       "      <td>Jan-16</td>\n",
       "      <td>0.0</td>\n",
       "      <td>1</td>\n",
       "      <td>INDIVIDUAL</td>\n",
       "      <td>0</td>\n",
       "      <td>0.0</td>\n",
       "      <td>0</td>\n",
       "      <td>0.0</td>\n",
       "      <td>0.0</td>\n",
       "    </tr>\n",
       "    <tr>\n",
       "      <th>...</th>\n",
       "      <td>...</td>\n",
       "      <td>...</td>\n",
       "      <td>...</td>\n",
       "      <td>...</td>\n",
       "      <td>...</td>\n",
       "      <td>...</td>\n",
       "      <td>...</td>\n",
       "      <td>...</td>\n",
       "      <td>...</td>\n",
       "      <td>...</td>\n",
       "      <td>...</td>\n",
       "      <td>...</td>\n",
       "      <td>...</td>\n",
       "      <td>...</td>\n",
       "      <td>...</td>\n",
       "      <td>...</td>\n",
       "      <td>...</td>\n",
       "      <td>...</td>\n",
       "      <td>...</td>\n",
       "      <td>...</td>\n",
       "      <td>...</td>\n",
       "    </tr>\n",
       "    <tr>\n",
       "      <th>39712</th>\n",
       "      <td>92187</td>\n",
       "      <td>92174</td>\n",
       "      <td>2500</td>\n",
       "      <td>2500</td>\n",
       "      <td>1075.0</td>\n",
       "      <td>36 months</td>\n",
       "      <td>8.07%</td>\n",
       "      <td>78.42</td>\n",
       "      <td>A</td>\n",
       "      <td>A4</td>\n",
       "      <td>...</td>\n",
       "      <td>80.90</td>\n",
       "      <td>Jun-10</td>\n",
       "      <td>NaN</td>\n",
       "      <td>1</td>\n",
       "      <td>INDIVIDUAL</td>\n",
       "      <td>0</td>\n",
       "      <td>NaN</td>\n",
       "      <td>0</td>\n",
       "      <td>NaN</td>\n",
       "      <td>NaN</td>\n",
       "    </tr>\n",
       "    <tr>\n",
       "      <th>39713</th>\n",
       "      <td>90665</td>\n",
       "      <td>90607</td>\n",
       "      <td>8500</td>\n",
       "      <td>8500</td>\n",
       "      <td>875.0</td>\n",
       "      <td>36 months</td>\n",
       "      <td>10.28%</td>\n",
       "      <td>275.38</td>\n",
       "      <td>C</td>\n",
       "      <td>C1</td>\n",
       "      <td>...</td>\n",
       "      <td>281.94</td>\n",
       "      <td>Jul-10</td>\n",
       "      <td>NaN</td>\n",
       "      <td>1</td>\n",
       "      <td>INDIVIDUAL</td>\n",
       "      <td>0</td>\n",
       "      <td>NaN</td>\n",
       "      <td>0</td>\n",
       "      <td>NaN</td>\n",
       "      <td>NaN</td>\n",
       "    </tr>\n",
       "    <tr>\n",
       "      <th>39714</th>\n",
       "      <td>90395</td>\n",
       "      <td>90390</td>\n",
       "      <td>5000</td>\n",
       "      <td>5000</td>\n",
       "      <td>1325.0</td>\n",
       "      <td>36 months</td>\n",
       "      <td>8.07%</td>\n",
       "      <td>156.84</td>\n",
       "      <td>A</td>\n",
       "      <td>A4</td>\n",
       "      <td>...</td>\n",
       "      <td>0.00</td>\n",
       "      <td>Jun-07</td>\n",
       "      <td>NaN</td>\n",
       "      <td>1</td>\n",
       "      <td>INDIVIDUAL</td>\n",
       "      <td>0</td>\n",
       "      <td>NaN</td>\n",
       "      <td>0</td>\n",
       "      <td>NaN</td>\n",
       "      <td>NaN</td>\n",
       "    </tr>\n",
       "    <tr>\n",
       "      <th>39715</th>\n",
       "      <td>90376</td>\n",
       "      <td>89243</td>\n",
       "      <td>5000</td>\n",
       "      <td>5000</td>\n",
       "      <td>650.0</td>\n",
       "      <td>36 months</td>\n",
       "      <td>7.43%</td>\n",
       "      <td>155.38</td>\n",
       "      <td>A</td>\n",
       "      <td>A2</td>\n",
       "      <td>...</td>\n",
       "      <td>0.00</td>\n",
       "      <td>Jun-07</td>\n",
       "      <td>NaN</td>\n",
       "      <td>1</td>\n",
       "      <td>INDIVIDUAL</td>\n",
       "      <td>0</td>\n",
       "      <td>NaN</td>\n",
       "      <td>0</td>\n",
       "      <td>NaN</td>\n",
       "      <td>NaN</td>\n",
       "    </tr>\n",
       "    <tr>\n",
       "      <th>39716</th>\n",
       "      <td>87023</td>\n",
       "      <td>86999</td>\n",
       "      <td>7500</td>\n",
       "      <td>7500</td>\n",
       "      <td>800.0</td>\n",
       "      <td>36 months</td>\n",
       "      <td>13.75%</td>\n",
       "      <td>255.43</td>\n",
       "      <td>E</td>\n",
       "      <td>E2</td>\n",
       "      <td>...</td>\n",
       "      <td>256.59</td>\n",
       "      <td>Jun-10</td>\n",
       "      <td>NaN</td>\n",
       "      <td>1</td>\n",
       "      <td>INDIVIDUAL</td>\n",
       "      <td>0</td>\n",
       "      <td>NaN</td>\n",
       "      <td>0</td>\n",
       "      <td>NaN</td>\n",
       "      <td>NaN</td>\n",
       "    </tr>\n",
       "  </tbody>\n",
       "</table>\n",
       "<p>38577 rows × 56 columns</p>\n",
       "</div>"
      ],
      "text/plain": [
       "            id  member_id  loan_amnt  funded_amnt  funded_amnt_inv  \\\n",
       "0      1077501    1296599       5000         5000           4975.0   \n",
       "1      1077430    1314167       2500         2500           2500.0   \n",
       "2      1077175    1313524       2400         2400           2400.0   \n",
       "3      1076863    1277178      10000        10000          10000.0   \n",
       "5      1075269    1311441       5000         5000           5000.0   \n",
       "...        ...        ...        ...          ...              ...   \n",
       "39712    92187      92174       2500         2500           1075.0   \n",
       "39713    90665      90607       8500         8500            875.0   \n",
       "39714    90395      90390       5000         5000           1325.0   \n",
       "39715    90376      89243       5000         5000            650.0   \n",
       "39716    87023      86999       7500         7500            800.0   \n",
       "\n",
       "             term int_rate  installment grade sub_grade  ... last_pymnt_amnt  \\\n",
       "0       36 months   10.65%       162.87     B        B2  ...          171.62   \n",
       "1       60 months   15.27%        59.83     C        C4  ...          119.66   \n",
       "2       36 months   15.96%        84.33     C        C5  ...          649.91   \n",
       "3       36 months   13.49%       339.31     C        C1  ...          357.48   \n",
       "5       36 months    7.90%       156.46     A        A4  ...          161.03   \n",
       "...           ...      ...          ...   ...       ...  ...             ...   \n",
       "39712   36 months    8.07%        78.42     A        A4  ...           80.90   \n",
       "39713   36 months   10.28%       275.38     C        C1  ...          281.94   \n",
       "39714   36 months    8.07%       156.84     A        A4  ...            0.00   \n",
       "39715   36 months    7.43%       155.38     A        A2  ...            0.00   \n",
       "39716   36 months   13.75%       255.43     E        E2  ...          256.59   \n",
       "\n",
       "      last_credit_pull_d collections_12_mths_ex_med  policy_code  \\\n",
       "0                 May-16                        0.0            1   \n",
       "1                 Sep-13                        0.0            1   \n",
       "2                 May-16                        0.0            1   \n",
       "3                 Apr-16                        0.0            1   \n",
       "5                 Jan-16                        0.0            1   \n",
       "...                  ...                        ...          ...   \n",
       "39712             Jun-10                        NaN            1   \n",
       "39713             Jul-10                        NaN            1   \n",
       "39714             Jun-07                        NaN            1   \n",
       "39715             Jun-07                        NaN            1   \n",
       "39716             Jun-10                        NaN            1   \n",
       "\n",
       "      application_type acc_now_delinq chargeoff_within_12_mths delinq_amnt  \\\n",
       "0           INDIVIDUAL              0                      0.0           0   \n",
       "1           INDIVIDUAL              0                      0.0           0   \n",
       "2           INDIVIDUAL              0                      0.0           0   \n",
       "3           INDIVIDUAL              0                      0.0           0   \n",
       "5           INDIVIDUAL              0                      0.0           0   \n",
       "...                ...            ...                      ...         ...   \n",
       "39712       INDIVIDUAL              0                      NaN           0   \n",
       "39713       INDIVIDUAL              0                      NaN           0   \n",
       "39714       INDIVIDUAL              0                      NaN           0   \n",
       "39715       INDIVIDUAL              0                      NaN           0   \n",
       "39716       INDIVIDUAL              0                      NaN           0   \n",
       "\n",
       "      pub_rec_bankruptcies tax_liens  \n",
       "0                      0.0       0.0  \n",
       "1                      0.0       0.0  \n",
       "2                      0.0       0.0  \n",
       "3                      0.0       0.0  \n",
       "5                      0.0       0.0  \n",
       "...                    ...       ...  \n",
       "39712                  NaN       NaN  \n",
       "39713                  NaN       NaN  \n",
       "39714                  NaN       NaN  \n",
       "39715                  NaN       NaN  \n",
       "39716                  NaN       NaN  \n",
       "\n",
       "[38577 rows x 56 columns]"
      ]
     },
     "execution_count": 232,
     "metadata": {},
     "output_type": "execute_result"
    }
   ],
   "source": [
    "# Deleting the columns which is having all rows values as na.\n",
    "loan_df = loan_df.dropna(axis=1, how=\"all\")\n",
    "loan_df"
   ]
  },
  {
   "cell_type": "code",
   "execution_count": 19,
   "id": "740f0d0f-2ff3-47b0-8444-691056564656",
   "metadata": {},
   "outputs": [
    {
     "data": {
      "text/html": [
       "<div>\n",
       "<style scoped>\n",
       "    .dataframe tbody tr th:only-of-type {\n",
       "        vertical-align: middle;\n",
       "    }\n",
       "\n",
       "    .dataframe tbody tr th {\n",
       "        vertical-align: top;\n",
       "    }\n",
       "\n",
       "    .dataframe thead th {\n",
       "        text-align: right;\n",
       "    }\n",
       "</style>\n",
       "<table border=\"1\" class=\"dataframe\">\n",
       "  <thead>\n",
       "    <tr style=\"text-align: right;\">\n",
       "      <th></th>\n",
       "      <th>id</th>\n",
       "      <th>member_id</th>\n",
       "      <th>loan_amnt</th>\n",
       "      <th>funded_amnt</th>\n",
       "      <th>funded_amnt_inv</th>\n",
       "      <th>term</th>\n",
       "      <th>int_rate</th>\n",
       "      <th>installment</th>\n",
       "      <th>grade</th>\n",
       "      <th>sub_grade</th>\n",
       "      <th>...</th>\n",
       "      <th>last_pymnt_amnt</th>\n",
       "      <th>last_credit_pull_d</th>\n",
       "      <th>collections_12_mths_ex_med</th>\n",
       "      <th>policy_code</th>\n",
       "      <th>application_type</th>\n",
       "      <th>acc_now_delinq</th>\n",
       "      <th>chargeoff_within_12_mths</th>\n",
       "      <th>delinq_amnt</th>\n",
       "      <th>pub_rec_bankruptcies</th>\n",
       "      <th>tax_liens</th>\n",
       "    </tr>\n",
       "  </thead>\n",
       "  <tbody>\n",
       "    <tr>\n",
       "      <th>0</th>\n",
       "      <td>1077501</td>\n",
       "      <td>1296599</td>\n",
       "      <td>5000</td>\n",
       "      <td>5000</td>\n",
       "      <td>4975.0</td>\n",
       "      <td>36 months</td>\n",
       "      <td>10.65%</td>\n",
       "      <td>162.87</td>\n",
       "      <td>B</td>\n",
       "      <td>B2</td>\n",
       "      <td>...</td>\n",
       "      <td>171.62</td>\n",
       "      <td>May-16</td>\n",
       "      <td>0.0</td>\n",
       "      <td>1</td>\n",
       "      <td>INDIVIDUAL</td>\n",
       "      <td>0</td>\n",
       "      <td>0.0</td>\n",
       "      <td>0</td>\n",
       "      <td>0.0</td>\n",
       "      <td>0.0</td>\n",
       "    </tr>\n",
       "    <tr>\n",
       "      <th>1</th>\n",
       "      <td>1077430</td>\n",
       "      <td>1314167</td>\n",
       "      <td>2500</td>\n",
       "      <td>2500</td>\n",
       "      <td>2500.0</td>\n",
       "      <td>60 months</td>\n",
       "      <td>15.27%</td>\n",
       "      <td>59.83</td>\n",
       "      <td>C</td>\n",
       "      <td>C4</td>\n",
       "      <td>...</td>\n",
       "      <td>119.66</td>\n",
       "      <td>Sep-13</td>\n",
       "      <td>0.0</td>\n",
       "      <td>1</td>\n",
       "      <td>INDIVIDUAL</td>\n",
       "      <td>0</td>\n",
       "      <td>0.0</td>\n",
       "      <td>0</td>\n",
       "      <td>0.0</td>\n",
       "      <td>0.0</td>\n",
       "    </tr>\n",
       "    <tr>\n",
       "      <th>2</th>\n",
       "      <td>1077175</td>\n",
       "      <td>1313524</td>\n",
       "      <td>2400</td>\n",
       "      <td>2400</td>\n",
       "      <td>2400.0</td>\n",
       "      <td>36 months</td>\n",
       "      <td>15.96%</td>\n",
       "      <td>84.33</td>\n",
       "      <td>C</td>\n",
       "      <td>C5</td>\n",
       "      <td>...</td>\n",
       "      <td>649.91</td>\n",
       "      <td>May-16</td>\n",
       "      <td>0.0</td>\n",
       "      <td>1</td>\n",
       "      <td>INDIVIDUAL</td>\n",
       "      <td>0</td>\n",
       "      <td>0.0</td>\n",
       "      <td>0</td>\n",
       "      <td>0.0</td>\n",
       "      <td>0.0</td>\n",
       "    </tr>\n",
       "    <tr>\n",
       "      <th>3</th>\n",
       "      <td>1076863</td>\n",
       "      <td>1277178</td>\n",
       "      <td>10000</td>\n",
       "      <td>10000</td>\n",
       "      <td>10000.0</td>\n",
       "      <td>36 months</td>\n",
       "      <td>13.49%</td>\n",
       "      <td>339.31</td>\n",
       "      <td>C</td>\n",
       "      <td>C1</td>\n",
       "      <td>...</td>\n",
       "      <td>357.48</td>\n",
       "      <td>Apr-16</td>\n",
       "      <td>0.0</td>\n",
       "      <td>1</td>\n",
       "      <td>INDIVIDUAL</td>\n",
       "      <td>0</td>\n",
       "      <td>0.0</td>\n",
       "      <td>0</td>\n",
       "      <td>0.0</td>\n",
       "      <td>0.0</td>\n",
       "    </tr>\n",
       "    <tr>\n",
       "      <th>5</th>\n",
       "      <td>1075269</td>\n",
       "      <td>1311441</td>\n",
       "      <td>5000</td>\n",
       "      <td>5000</td>\n",
       "      <td>5000.0</td>\n",
       "      <td>36 months</td>\n",
       "      <td>7.90%</td>\n",
       "      <td>156.46</td>\n",
       "      <td>A</td>\n",
       "      <td>A4</td>\n",
       "      <td>...</td>\n",
       "      <td>161.03</td>\n",
       "      <td>Jan-16</td>\n",
       "      <td>0.0</td>\n",
       "      <td>1</td>\n",
       "      <td>INDIVIDUAL</td>\n",
       "      <td>0</td>\n",
       "      <td>0.0</td>\n",
       "      <td>0</td>\n",
       "      <td>0.0</td>\n",
       "      <td>0.0</td>\n",
       "    </tr>\n",
       "    <tr>\n",
       "      <th>...</th>\n",
       "      <td>...</td>\n",
       "      <td>...</td>\n",
       "      <td>...</td>\n",
       "      <td>...</td>\n",
       "      <td>...</td>\n",
       "      <td>...</td>\n",
       "      <td>...</td>\n",
       "      <td>...</td>\n",
       "      <td>...</td>\n",
       "      <td>...</td>\n",
       "      <td>...</td>\n",
       "      <td>...</td>\n",
       "      <td>...</td>\n",
       "      <td>...</td>\n",
       "      <td>...</td>\n",
       "      <td>...</td>\n",
       "      <td>...</td>\n",
       "      <td>...</td>\n",
       "      <td>...</td>\n",
       "      <td>...</td>\n",
       "      <td>...</td>\n",
       "    </tr>\n",
       "    <tr>\n",
       "      <th>39712</th>\n",
       "      <td>92187</td>\n",
       "      <td>92174</td>\n",
       "      <td>2500</td>\n",
       "      <td>2500</td>\n",
       "      <td>1075.0</td>\n",
       "      <td>36 months</td>\n",
       "      <td>8.07%</td>\n",
       "      <td>78.42</td>\n",
       "      <td>A</td>\n",
       "      <td>A4</td>\n",
       "      <td>...</td>\n",
       "      <td>80.90</td>\n",
       "      <td>Jun-10</td>\n",
       "      <td>NaN</td>\n",
       "      <td>1</td>\n",
       "      <td>INDIVIDUAL</td>\n",
       "      <td>0</td>\n",
       "      <td>NaN</td>\n",
       "      <td>0</td>\n",
       "      <td>NaN</td>\n",
       "      <td>NaN</td>\n",
       "    </tr>\n",
       "    <tr>\n",
       "      <th>39713</th>\n",
       "      <td>90665</td>\n",
       "      <td>90607</td>\n",
       "      <td>8500</td>\n",
       "      <td>8500</td>\n",
       "      <td>875.0</td>\n",
       "      <td>36 months</td>\n",
       "      <td>10.28%</td>\n",
       "      <td>275.38</td>\n",
       "      <td>C</td>\n",
       "      <td>C1</td>\n",
       "      <td>...</td>\n",
       "      <td>281.94</td>\n",
       "      <td>Jul-10</td>\n",
       "      <td>NaN</td>\n",
       "      <td>1</td>\n",
       "      <td>INDIVIDUAL</td>\n",
       "      <td>0</td>\n",
       "      <td>NaN</td>\n",
       "      <td>0</td>\n",
       "      <td>NaN</td>\n",
       "      <td>NaN</td>\n",
       "    </tr>\n",
       "    <tr>\n",
       "      <th>39714</th>\n",
       "      <td>90395</td>\n",
       "      <td>90390</td>\n",
       "      <td>5000</td>\n",
       "      <td>5000</td>\n",
       "      <td>1325.0</td>\n",
       "      <td>36 months</td>\n",
       "      <td>8.07%</td>\n",
       "      <td>156.84</td>\n",
       "      <td>A</td>\n",
       "      <td>A4</td>\n",
       "      <td>...</td>\n",
       "      <td>0.00</td>\n",
       "      <td>Jun-07</td>\n",
       "      <td>NaN</td>\n",
       "      <td>1</td>\n",
       "      <td>INDIVIDUAL</td>\n",
       "      <td>0</td>\n",
       "      <td>NaN</td>\n",
       "      <td>0</td>\n",
       "      <td>NaN</td>\n",
       "      <td>NaN</td>\n",
       "    </tr>\n",
       "    <tr>\n",
       "      <th>39715</th>\n",
       "      <td>90376</td>\n",
       "      <td>89243</td>\n",
       "      <td>5000</td>\n",
       "      <td>5000</td>\n",
       "      <td>650.0</td>\n",
       "      <td>36 months</td>\n",
       "      <td>7.43%</td>\n",
       "      <td>155.38</td>\n",
       "      <td>A</td>\n",
       "      <td>A2</td>\n",
       "      <td>...</td>\n",
       "      <td>0.00</td>\n",
       "      <td>Jun-07</td>\n",
       "      <td>NaN</td>\n",
       "      <td>1</td>\n",
       "      <td>INDIVIDUAL</td>\n",
       "      <td>0</td>\n",
       "      <td>NaN</td>\n",
       "      <td>0</td>\n",
       "      <td>NaN</td>\n",
       "      <td>NaN</td>\n",
       "    </tr>\n",
       "    <tr>\n",
       "      <th>39716</th>\n",
       "      <td>87023</td>\n",
       "      <td>86999</td>\n",
       "      <td>7500</td>\n",
       "      <td>7500</td>\n",
       "      <td>800.0</td>\n",
       "      <td>36 months</td>\n",
       "      <td>13.75%</td>\n",
       "      <td>255.43</td>\n",
       "      <td>E</td>\n",
       "      <td>E2</td>\n",
       "      <td>...</td>\n",
       "      <td>256.59</td>\n",
       "      <td>Jun-10</td>\n",
       "      <td>NaN</td>\n",
       "      <td>1</td>\n",
       "      <td>INDIVIDUAL</td>\n",
       "      <td>0</td>\n",
       "      <td>NaN</td>\n",
       "      <td>0</td>\n",
       "      <td>NaN</td>\n",
       "      <td>NaN</td>\n",
       "    </tr>\n",
       "  </tbody>\n",
       "</table>\n",
       "<p>38577 rows × 56 columns</p>\n",
       "</div>"
      ],
      "text/plain": [
       "            id  member_id  loan_amnt  funded_amnt  funded_amnt_inv  \\\n",
       "0      1077501    1296599       5000         5000           4975.0   \n",
       "1      1077430    1314167       2500         2500           2500.0   \n",
       "2      1077175    1313524       2400         2400           2400.0   \n",
       "3      1076863    1277178      10000        10000          10000.0   \n",
       "5      1075269    1311441       5000         5000           5000.0   \n",
       "...        ...        ...        ...          ...              ...   \n",
       "39712    92187      92174       2500         2500           1075.0   \n",
       "39713    90665      90607       8500         8500            875.0   \n",
       "39714    90395      90390       5000         5000           1325.0   \n",
       "39715    90376      89243       5000         5000            650.0   \n",
       "39716    87023      86999       7500         7500            800.0   \n",
       "\n",
       "             term int_rate  installment grade sub_grade  ... last_pymnt_amnt  \\\n",
       "0       36 months   10.65%       162.87     B        B2  ...          171.62   \n",
       "1       60 months   15.27%        59.83     C        C4  ...          119.66   \n",
       "2       36 months   15.96%        84.33     C        C5  ...          649.91   \n",
       "3       36 months   13.49%       339.31     C        C1  ...          357.48   \n",
       "5       36 months    7.90%       156.46     A        A4  ...          161.03   \n",
       "...           ...      ...          ...   ...       ...  ...             ...   \n",
       "39712   36 months    8.07%        78.42     A        A4  ...           80.90   \n",
       "39713   36 months   10.28%       275.38     C        C1  ...          281.94   \n",
       "39714   36 months    8.07%       156.84     A        A4  ...            0.00   \n",
       "39715   36 months    7.43%       155.38     A        A2  ...            0.00   \n",
       "39716   36 months   13.75%       255.43     E        E2  ...          256.59   \n",
       "\n",
       "      last_credit_pull_d collections_12_mths_ex_med  policy_code  \\\n",
       "0                 May-16                        0.0            1   \n",
       "1                 Sep-13                        0.0            1   \n",
       "2                 May-16                        0.0            1   \n",
       "3                 Apr-16                        0.0            1   \n",
       "5                 Jan-16                        0.0            1   \n",
       "...                  ...                        ...          ...   \n",
       "39712             Jun-10                        NaN            1   \n",
       "39713             Jul-10                        NaN            1   \n",
       "39714             Jun-07                        NaN            1   \n",
       "39715             Jun-07                        NaN            1   \n",
       "39716             Jun-10                        NaN            1   \n",
       "\n",
       "      application_type acc_now_delinq chargeoff_within_12_mths delinq_amnt  \\\n",
       "0           INDIVIDUAL              0                      0.0           0   \n",
       "1           INDIVIDUAL              0                      0.0           0   \n",
       "2           INDIVIDUAL              0                      0.0           0   \n",
       "3           INDIVIDUAL              0                      0.0           0   \n",
       "5           INDIVIDUAL              0                      0.0           0   \n",
       "...                ...            ...                      ...         ...   \n",
       "39712       INDIVIDUAL              0                      NaN           0   \n",
       "39713       INDIVIDUAL              0                      NaN           0   \n",
       "39714       INDIVIDUAL              0                      NaN           0   \n",
       "39715       INDIVIDUAL              0                      NaN           0   \n",
       "39716       INDIVIDUAL              0                      NaN           0   \n",
       "\n",
       "      pub_rec_bankruptcies tax_liens  \n",
       "0                      0.0       0.0  \n",
       "1                      0.0       0.0  \n",
       "2                      0.0       0.0  \n",
       "3                      0.0       0.0  \n",
       "5                      0.0       0.0  \n",
       "...                    ...       ...  \n",
       "39712                  NaN       NaN  \n",
       "39713                  NaN       NaN  \n",
       "39714                  NaN       NaN  \n",
       "39715                  NaN       NaN  \n",
       "39716                  NaN       NaN  \n",
       "\n",
       "[38577 rows x 56 columns]"
      ]
     },
     "execution_count": 19,
     "metadata": {},
     "output_type": "execute_result"
    }
   ],
   "source": [
    "# Deleting the rows which is having all columns values as na.\n",
    "loan_df = loan_df.dropna(axis=0, how=\"all\")\n",
    "loan_df"
   ]
  },
  {
   "cell_type": "code",
   "execution_count": 233,
   "id": "9b119cb5-a6a0-46ed-8fa9-14ecc78e45a1",
   "metadata": {},
   "outputs": [
    {
     "data": {
      "text/plain": [
       "['id', 'member_id', 'url']"
      ]
     },
     "execution_count": 233,
     "metadata": {},
     "output_type": "execute_result"
    }
   ],
   "source": [
    "# Lets check the columns whose value is unique in nature as it doesnot make any sense performing EDA on the columns whose each and every value is unique and doesnot give insights\n",
    "unique_columns = [col for col in loan_df.columns if loan_df[col].nunique() == len(loan_df)]\n",
    "unique_columns"
   ]
  },
  {
   "cell_type": "code",
   "execution_count": 234,
   "id": "415ee775-b9c9-442c-a6ff-67bbbc9040d9",
   "metadata": {},
   "outputs": [],
   "source": [
    "# We will delete'member_id', and 'url' as it doesn't count in EDA. Will keep the id columns which will be used for creating pivot table\n",
    "loan_df.drop(['url','member_id'],axis=1, inplace=True)"
   ]
  },
  {
   "cell_type": "code",
   "execution_count": 235,
   "id": "ad0623e3-638b-49d3-ad05-6dbc35962dbf",
   "metadata": {},
   "outputs": [
    {
     "data": {
      "text/plain": [
       "(38577, 54)"
      ]
     },
     "execution_count": 235,
     "metadata": {},
     "output_type": "execute_result"
    }
   ],
   "source": [
    "loan_df.shape"
   ]
  },
  {
   "cell_type": "code",
   "execution_count": 236,
   "id": "44ee488f-892e-4e8a-b699-745220094b80",
   "metadata": {},
   "outputs": [
    {
     "data": {
      "text/plain": [
       "(38577, 52)"
      ]
     },
     "execution_count": 236,
     "metadata": {},
     "output_type": "execute_result"
    }
   ],
   "source": [
    "# Lets delete the column which is having text/description values as they don't contribute to EDA.\n",
    "loan_df.drop(columns=['desc','title'],inplace=True)\n",
    "loan_df.shape"
   ]
  },
  {
   "cell_type": "code",
   "execution_count": 237,
   "id": "452250b6-0c41-4f8f-a19e-a45f0d8c6fb3",
   "metadata": {},
   "outputs": [],
   "source": [
    "# We will limit our analysis till Group level only. Hence deleting the subgroups.\n",
    "loan_df = loan_df.drop(['sub_grade'],  axis=1)"
   ]
  },
  {
   "cell_type": "code",
   "execution_count": 238,
   "id": "cd9bb09d-979a-40fa-bac7-27a52bf84502",
   "metadata": {},
   "outputs": [],
   "source": [
    "#Behavioural data is captured post loan approval and will not be available during the loan approval process. Hence removing these fields.\n",
    "behavioural_cols=['delinq_2yrs', 'earliest_cr_line', 'last_pymnt_amnt','inq_last_6mths', 'open_acc', 'pub_rec', 'revol_bal', 'revol_util', 'total_acc',\n",
    "                          'out_prncp', 'out_prncp_inv', 'total_pymnt','total_pymnt_inv', 'total_rec_prncp',\n",
    "                          'total_rec_int', 'total_rec_late_fee', 'recoveries', 'collection_recovery_fee',\n",
    "                        'application_type','last_pymnt_d','last_credit_pull_d']\n",
    "\n",
    "loan_df=loan_df.drop(behavioural_cols,axis=1)"
   ]
  },
  {
   "cell_type": "code",
   "execution_count": 239,
   "id": "858854c0-46c8-4b01-8abd-3f96f1770e59",
   "metadata": {},
   "outputs": [
    {
     "data": {
      "text/plain": [
       "tax_liens                         1\n",
       "delinq_amnt                       1\n",
       "chargeoff_within_12_mths          1\n",
       "acc_now_delinq                    1\n",
       "policy_code                       1\n",
       "collections_12_mths_ex_med        1\n",
       "initial_list_status               1\n",
       "pymnt_plan                        1\n",
       "loan_status                       2\n",
       "term                              2\n",
       "verification_status               3\n",
       "pub_rec_bankruptcies              3\n",
       "home_ownership                    5\n",
       "grade                             7\n",
       "emp_length                       11\n",
       "purpose                          14\n",
       "addr_state                       50\n",
       "issue_d                          55\n",
       "mths_since_last_delinq           95\n",
       "mths_since_last_record          111\n",
       "int_rate                        370\n",
       "zip_code                        822\n",
       "loan_amnt                       870\n",
       "funded_amnt                    1019\n",
       "dti                            2853\n",
       "annual_inc                     5215\n",
       "funded_amnt_inv                8050\n",
       "installment                   15022\n",
       "emp_title                     28027\n",
       "id                            38577\n",
       "dtype: int64"
      ]
     },
     "execution_count": 239,
     "metadata": {},
     "output_type": "execute_result"
    }
   ],
   "source": [
    "loan_df.nunique().sort_values()"
   ]
  },
  {
   "cell_type": "code",
   "execution_count": 240,
   "id": "23f4094b-1bae-4727-a4f2-8c97cf93e921",
   "metadata": {},
   "outputs": [
    {
     "name": "stdout",
     "output_type": "stream",
     "text": [
      "pymnt_plan\n",
      "initial_list_status\n",
      "collections_12_mths_ex_med\n",
      "policy_code\n",
      "acc_now_delinq\n",
      "chargeoff_within_12_mths\n",
      "delinq_amnt\n",
      "tax_liens\n",
      "-------------\n"
     ]
    },
    {
     "data": {
      "text/html": [
       "<div>\n",
       "<style scoped>\n",
       "    .dataframe tbody tr th:only-of-type {\n",
       "        vertical-align: middle;\n",
       "    }\n",
       "\n",
       "    .dataframe tbody tr th {\n",
       "        vertical-align: top;\n",
       "    }\n",
       "\n",
       "    .dataframe thead th {\n",
       "        text-align: right;\n",
       "    }\n",
       "</style>\n",
       "<table border=\"1\" class=\"dataframe\">\n",
       "  <thead>\n",
       "    <tr style=\"text-align: right;\">\n",
       "      <th></th>\n",
       "      <th>id</th>\n",
       "      <th>loan_amnt</th>\n",
       "      <th>funded_amnt</th>\n",
       "      <th>funded_amnt_inv</th>\n",
       "      <th>term</th>\n",
       "      <th>int_rate</th>\n",
       "      <th>installment</th>\n",
       "      <th>grade</th>\n",
       "      <th>emp_title</th>\n",
       "      <th>emp_length</th>\n",
       "      <th>...</th>\n",
       "      <th>verification_status</th>\n",
       "      <th>issue_d</th>\n",
       "      <th>loan_status</th>\n",
       "      <th>purpose</th>\n",
       "      <th>zip_code</th>\n",
       "      <th>addr_state</th>\n",
       "      <th>dti</th>\n",
       "      <th>mths_since_last_delinq</th>\n",
       "      <th>mths_since_last_record</th>\n",
       "      <th>pub_rec_bankruptcies</th>\n",
       "    </tr>\n",
       "  </thead>\n",
       "  <tbody>\n",
       "    <tr>\n",
       "      <th>0</th>\n",
       "      <td>1077501</td>\n",
       "      <td>5000</td>\n",
       "      <td>5000</td>\n",
       "      <td>4975.0</td>\n",
       "      <td>36 months</td>\n",
       "      <td>10.65%</td>\n",
       "      <td>162.87</td>\n",
       "      <td>B</td>\n",
       "      <td>NaN</td>\n",
       "      <td>10+ years</td>\n",
       "      <td>...</td>\n",
       "      <td>Verified</td>\n",
       "      <td>Dec-11</td>\n",
       "      <td>Fully Paid</td>\n",
       "      <td>credit_card</td>\n",
       "      <td>860xx</td>\n",
       "      <td>AZ</td>\n",
       "      <td>27.65</td>\n",
       "      <td>NaN</td>\n",
       "      <td>NaN</td>\n",
       "      <td>0.0</td>\n",
       "    </tr>\n",
       "    <tr>\n",
       "      <th>1</th>\n",
       "      <td>1077430</td>\n",
       "      <td>2500</td>\n",
       "      <td>2500</td>\n",
       "      <td>2500.0</td>\n",
       "      <td>60 months</td>\n",
       "      <td>15.27%</td>\n",
       "      <td>59.83</td>\n",
       "      <td>C</td>\n",
       "      <td>Ryder</td>\n",
       "      <td>&lt; 1 year</td>\n",
       "      <td>...</td>\n",
       "      <td>Source Verified</td>\n",
       "      <td>Dec-11</td>\n",
       "      <td>Charged Off</td>\n",
       "      <td>car</td>\n",
       "      <td>309xx</td>\n",
       "      <td>GA</td>\n",
       "      <td>1.00</td>\n",
       "      <td>NaN</td>\n",
       "      <td>NaN</td>\n",
       "      <td>0.0</td>\n",
       "    </tr>\n",
       "    <tr>\n",
       "      <th>2</th>\n",
       "      <td>1077175</td>\n",
       "      <td>2400</td>\n",
       "      <td>2400</td>\n",
       "      <td>2400.0</td>\n",
       "      <td>36 months</td>\n",
       "      <td>15.96%</td>\n",
       "      <td>84.33</td>\n",
       "      <td>C</td>\n",
       "      <td>NaN</td>\n",
       "      <td>10+ years</td>\n",
       "      <td>...</td>\n",
       "      <td>Not Verified</td>\n",
       "      <td>Dec-11</td>\n",
       "      <td>Fully Paid</td>\n",
       "      <td>small_business</td>\n",
       "      <td>606xx</td>\n",
       "      <td>IL</td>\n",
       "      <td>8.72</td>\n",
       "      <td>NaN</td>\n",
       "      <td>NaN</td>\n",
       "      <td>0.0</td>\n",
       "    </tr>\n",
       "    <tr>\n",
       "      <th>3</th>\n",
       "      <td>1076863</td>\n",
       "      <td>10000</td>\n",
       "      <td>10000</td>\n",
       "      <td>10000.0</td>\n",
       "      <td>36 months</td>\n",
       "      <td>13.49%</td>\n",
       "      <td>339.31</td>\n",
       "      <td>C</td>\n",
       "      <td>AIR RESOURCES BOARD</td>\n",
       "      <td>10+ years</td>\n",
       "      <td>...</td>\n",
       "      <td>Source Verified</td>\n",
       "      <td>Dec-11</td>\n",
       "      <td>Fully Paid</td>\n",
       "      <td>other</td>\n",
       "      <td>917xx</td>\n",
       "      <td>CA</td>\n",
       "      <td>20.00</td>\n",
       "      <td>35.0</td>\n",
       "      <td>NaN</td>\n",
       "      <td>0.0</td>\n",
       "    </tr>\n",
       "    <tr>\n",
       "      <th>5</th>\n",
       "      <td>1075269</td>\n",
       "      <td>5000</td>\n",
       "      <td>5000</td>\n",
       "      <td>5000.0</td>\n",
       "      <td>36 months</td>\n",
       "      <td>7.90%</td>\n",
       "      <td>156.46</td>\n",
       "      <td>A</td>\n",
       "      <td>Veolia Transportaton</td>\n",
       "      <td>3 years</td>\n",
       "      <td>...</td>\n",
       "      <td>Source Verified</td>\n",
       "      <td>Dec-11</td>\n",
       "      <td>Fully Paid</td>\n",
       "      <td>wedding</td>\n",
       "      <td>852xx</td>\n",
       "      <td>AZ</td>\n",
       "      <td>11.20</td>\n",
       "      <td>NaN</td>\n",
       "      <td>NaN</td>\n",
       "      <td>0.0</td>\n",
       "    </tr>\n",
       "    <tr>\n",
       "      <th>...</th>\n",
       "      <td>...</td>\n",
       "      <td>...</td>\n",
       "      <td>...</td>\n",
       "      <td>...</td>\n",
       "      <td>...</td>\n",
       "      <td>...</td>\n",
       "      <td>...</td>\n",
       "      <td>...</td>\n",
       "      <td>...</td>\n",
       "      <td>...</td>\n",
       "      <td>...</td>\n",
       "      <td>...</td>\n",
       "      <td>...</td>\n",
       "      <td>...</td>\n",
       "      <td>...</td>\n",
       "      <td>...</td>\n",
       "      <td>...</td>\n",
       "      <td>...</td>\n",
       "      <td>...</td>\n",
       "      <td>...</td>\n",
       "      <td>...</td>\n",
       "    </tr>\n",
       "    <tr>\n",
       "      <th>39712</th>\n",
       "      <td>92187</td>\n",
       "      <td>2500</td>\n",
       "      <td>2500</td>\n",
       "      <td>1075.0</td>\n",
       "      <td>36 months</td>\n",
       "      <td>8.07%</td>\n",
       "      <td>78.42</td>\n",
       "      <td>A</td>\n",
       "      <td>FiSite Research</td>\n",
       "      <td>4 years</td>\n",
       "      <td>...</td>\n",
       "      <td>Not Verified</td>\n",
       "      <td>Jul-07</td>\n",
       "      <td>Fully Paid</td>\n",
       "      <td>home_improvement</td>\n",
       "      <td>802xx</td>\n",
       "      <td>CO</td>\n",
       "      <td>11.33</td>\n",
       "      <td>0.0</td>\n",
       "      <td>0.0</td>\n",
       "      <td>NaN</td>\n",
       "    </tr>\n",
       "    <tr>\n",
       "      <th>39713</th>\n",
       "      <td>90665</td>\n",
       "      <td>8500</td>\n",
       "      <td>8500</td>\n",
       "      <td>875.0</td>\n",
       "      <td>36 months</td>\n",
       "      <td>10.28%</td>\n",
       "      <td>275.38</td>\n",
       "      <td>C</td>\n",
       "      <td>Squarewave Solutions, Ltd.</td>\n",
       "      <td>3 years</td>\n",
       "      <td>...</td>\n",
       "      <td>Not Verified</td>\n",
       "      <td>Jul-07</td>\n",
       "      <td>Fully Paid</td>\n",
       "      <td>credit_card</td>\n",
       "      <td>274xx</td>\n",
       "      <td>NC</td>\n",
       "      <td>6.40</td>\n",
       "      <td>5.0</td>\n",
       "      <td>0.0</td>\n",
       "      <td>NaN</td>\n",
       "    </tr>\n",
       "    <tr>\n",
       "      <th>39714</th>\n",
       "      <td>90395</td>\n",
       "      <td>5000</td>\n",
       "      <td>5000</td>\n",
       "      <td>1325.0</td>\n",
       "      <td>36 months</td>\n",
       "      <td>8.07%</td>\n",
       "      <td>156.84</td>\n",
       "      <td>A</td>\n",
       "      <td>NaN</td>\n",
       "      <td>&lt; 1 year</td>\n",
       "      <td>...</td>\n",
       "      <td>Not Verified</td>\n",
       "      <td>Jul-07</td>\n",
       "      <td>Fully Paid</td>\n",
       "      <td>debt_consolidation</td>\n",
       "      <td>017xx</td>\n",
       "      <td>MA</td>\n",
       "      <td>2.30</td>\n",
       "      <td>0.0</td>\n",
       "      <td>0.0</td>\n",
       "      <td>NaN</td>\n",
       "    </tr>\n",
       "    <tr>\n",
       "      <th>39715</th>\n",
       "      <td>90376</td>\n",
       "      <td>5000</td>\n",
       "      <td>5000</td>\n",
       "      <td>650.0</td>\n",
       "      <td>36 months</td>\n",
       "      <td>7.43%</td>\n",
       "      <td>155.38</td>\n",
       "      <td>A</td>\n",
       "      <td>NaN</td>\n",
       "      <td>&lt; 1 year</td>\n",
       "      <td>...</td>\n",
       "      <td>Not Verified</td>\n",
       "      <td>Jul-07</td>\n",
       "      <td>Fully Paid</td>\n",
       "      <td>other</td>\n",
       "      <td>208xx</td>\n",
       "      <td>MD</td>\n",
       "      <td>3.72</td>\n",
       "      <td>0.0</td>\n",
       "      <td>0.0</td>\n",
       "      <td>NaN</td>\n",
       "    </tr>\n",
       "    <tr>\n",
       "      <th>39716</th>\n",
       "      <td>87023</td>\n",
       "      <td>7500</td>\n",
       "      <td>7500</td>\n",
       "      <td>800.0</td>\n",
       "      <td>36 months</td>\n",
       "      <td>13.75%</td>\n",
       "      <td>255.43</td>\n",
       "      <td>E</td>\n",
       "      <td>Evergreen Center</td>\n",
       "      <td>&lt; 1 year</td>\n",
       "      <td>...</td>\n",
       "      <td>Not Verified</td>\n",
       "      <td>Jun-07</td>\n",
       "      <td>Fully Paid</td>\n",
       "      <td>debt_consolidation</td>\n",
       "      <td>027xx</td>\n",
       "      <td>MA</td>\n",
       "      <td>14.29</td>\n",
       "      <td>11.0</td>\n",
       "      <td>0.0</td>\n",
       "      <td>NaN</td>\n",
       "    </tr>\n",
       "  </tbody>\n",
       "</table>\n",
       "<p>38577 rows × 22 columns</p>\n",
       "</div>"
      ],
      "text/plain": [
       "            id  loan_amnt  funded_amnt  funded_amnt_inv        term int_rate  \\\n",
       "0      1077501       5000         5000           4975.0   36 months   10.65%   \n",
       "1      1077430       2500         2500           2500.0   60 months   15.27%   \n",
       "2      1077175       2400         2400           2400.0   36 months   15.96%   \n",
       "3      1076863      10000        10000          10000.0   36 months   13.49%   \n",
       "5      1075269       5000         5000           5000.0   36 months    7.90%   \n",
       "...        ...        ...          ...              ...         ...      ...   \n",
       "39712    92187       2500         2500           1075.0   36 months    8.07%   \n",
       "39713    90665       8500         8500            875.0   36 months   10.28%   \n",
       "39714    90395       5000         5000           1325.0   36 months    8.07%   \n",
       "39715    90376       5000         5000            650.0   36 months    7.43%   \n",
       "39716    87023       7500         7500            800.0   36 months   13.75%   \n",
       "\n",
       "       installment grade                   emp_title emp_length  ...  \\\n",
       "0           162.87     B                         NaN  10+ years  ...   \n",
       "1            59.83     C                       Ryder   < 1 year  ...   \n",
       "2            84.33     C                         NaN  10+ years  ...   \n",
       "3           339.31     C         AIR RESOURCES BOARD  10+ years  ...   \n",
       "5           156.46     A        Veolia Transportaton    3 years  ...   \n",
       "...            ...   ...                         ...        ...  ...   \n",
       "39712        78.42     A             FiSite Research    4 years  ...   \n",
       "39713       275.38     C  Squarewave Solutions, Ltd.    3 years  ...   \n",
       "39714       156.84     A                         NaN   < 1 year  ...   \n",
       "39715       155.38     A                         NaN   < 1 year  ...   \n",
       "39716       255.43     E            Evergreen Center   < 1 year  ...   \n",
       "\n",
       "      verification_status  issue_d  loan_status             purpose zip_code  \\\n",
       "0                Verified   Dec-11   Fully Paid         credit_card    860xx   \n",
       "1         Source Verified   Dec-11  Charged Off                 car    309xx   \n",
       "2            Not Verified   Dec-11   Fully Paid      small_business    606xx   \n",
       "3         Source Verified   Dec-11   Fully Paid               other    917xx   \n",
       "5         Source Verified   Dec-11   Fully Paid             wedding    852xx   \n",
       "...                   ...      ...          ...                 ...      ...   \n",
       "39712        Not Verified   Jul-07   Fully Paid    home_improvement    802xx   \n",
       "39713        Not Verified   Jul-07   Fully Paid         credit_card    274xx   \n",
       "39714        Not Verified   Jul-07   Fully Paid  debt_consolidation    017xx   \n",
       "39715        Not Verified   Jul-07   Fully Paid               other    208xx   \n",
       "39716        Not Verified   Jun-07   Fully Paid  debt_consolidation    027xx   \n",
       "\n",
       "      addr_state    dti mths_since_last_delinq  mths_since_last_record  \\\n",
       "0             AZ  27.65                    NaN                     NaN   \n",
       "1             GA   1.00                    NaN                     NaN   \n",
       "2             IL   8.72                    NaN                     NaN   \n",
       "3             CA  20.00                   35.0                     NaN   \n",
       "5             AZ  11.20                    NaN                     NaN   \n",
       "...          ...    ...                    ...                     ...   \n",
       "39712         CO  11.33                    0.0                     0.0   \n",
       "39713         NC   6.40                    5.0                     0.0   \n",
       "39714         MA   2.30                    0.0                     0.0   \n",
       "39715         MD   3.72                    0.0                     0.0   \n",
       "39716         MA  14.29                   11.0                     0.0   \n",
       "\n",
       "       pub_rec_bankruptcies  \n",
       "0                       0.0  \n",
       "1                       0.0  \n",
       "2                       0.0  \n",
       "3                       0.0  \n",
       "5                       0.0  \n",
       "...                     ...  \n",
       "39712                   NaN  \n",
       "39713                   NaN  \n",
       "39714                   NaN  \n",
       "39715                   NaN  \n",
       "39716                   NaN  \n",
       "\n",
       "[38577 rows x 22 columns]"
      ]
     },
     "execution_count": 240,
     "metadata": {},
     "output_type": "execute_result"
    }
   ],
   "source": [
    "# Example most of the columns values is 1. Deleting them as well as they will not make any sense in EDA as the value is same for all the rows\n",
    "for column in loan_df.columns:\n",
    "    if loan_df[column].nunique(dropna=True) == 1:\n",
    "        print(column)\n",
    "        loan_df = loan_df.drop(column, axis=1)\n",
    "print(\"-------------\")\n",
    "loan_df"
   ]
  },
  {
   "cell_type": "code",
   "execution_count": 241,
   "id": "fa0d04c4-f5c9-46e2-8db0-e2a2527e6b39",
   "metadata": {},
   "outputs": [
    {
     "name": "stdout",
     "output_type": "stream",
     "text": [
      "mths_since_last_delinq\n",
      "mths_since_last_record\n"
     ]
    },
    {
     "data": {
      "text/plain": [
       "(38577, 20)"
      ]
     },
     "execution_count": 241,
     "metadata": {},
     "output_type": "execute_result"
    }
   ],
   "source": [
    "#Dropping the columns which are having more than 50% of rows have values as null.\n",
    "total_rows = len(loan_df)\n",
    "for column in loan_df.columns:\n",
    "    if loan_df[column].isna().mean().round(2) >= 0.50:\n",
    "        print(column)\n",
    "        loan_df = loan_df.drop(column, axis=1)\n",
    "loan_df.shape"
   ]
  },
  {
   "cell_type": "code",
   "execution_count": 242,
   "id": "58c89cdf-a4d0-4eca-83c6-e9afaec99470",
   "metadata": {},
   "outputs": [],
   "source": [
    "#Deleting emp_title as its description or textual informations and doesn't participate in EDA analysis.\n",
    "loan_df=loan_df.drop(['emp_title'], axis=1)"
   ]
  },
  {
   "cell_type": "markdown",
   "id": "59fe171e-21e7-4caf-abbb-d54978b26154",
   "metadata": {},
   "source": [
    "# 2. Data Conversion"
   ]
  },
  {
   "cell_type": "code",
   "execution_count": 243,
   "id": "7a0c6ca0-22c7-4334-8b0b-d4bc35d2ec7e",
   "metadata": {},
   "outputs": [
    {
     "data": {
      "text/plain": [
       "id                        int64\n",
       "loan_amnt                 int64\n",
       "funded_amnt               int64\n",
       "funded_amnt_inv         float64\n",
       "term                     object\n",
       "int_rate                 object\n",
       "installment             float64\n",
       "grade                    object\n",
       "emp_length               object\n",
       "home_ownership           object\n",
       "annual_inc              float64\n",
       "verification_status      object\n",
       "issue_d                  object\n",
       "loan_status              object\n",
       "purpose                  object\n",
       "zip_code                 object\n",
       "addr_state               object\n",
       "dti                     float64\n",
       "pub_rec_bankruptcies    float64\n",
       "dtype: object"
      ]
     },
     "execution_count": 243,
     "metadata": {},
     "output_type": "execute_result"
    }
   ],
   "source": [
    "loan_df.dtypes"
   ]
  },
  {
   "cell_type": "code",
   "execution_count": 244,
   "id": "87967d85-ba21-45c7-9e2c-364a0f92a6a0",
   "metadata": {},
   "outputs": [
    {
     "data": {
      "text/plain": [
       "term\n",
       " 36 months    29096\n",
       " 60 months     9481\n",
       "Name: count, dtype: int64"
      ]
     },
     "execution_count": 244,
     "metadata": {},
     "output_type": "execute_result"
    }
   ],
   "source": [
    "loan_df['term'].value_counts()"
   ]
  },
  {
   "cell_type": "code",
   "execution_count": 245,
   "id": "ff69d5d1-2c58-428d-9c4b-3981b8cfac22",
   "metadata": {},
   "outputs": [
    {
     "data": {
      "text/plain": [
       "dtype('int64')"
      ]
     },
     "execution_count": 245,
     "metadata": {},
     "output_type": "execute_result"
    }
   ],
   "source": [
    "# Convert term from string to int.\n",
    "loan_df['term'] = loan_df['term'].apply(lambda term: int(term.strip().split()[0])) ## removing the string parts of int value\n",
    "loan_df['term'].dtype"
   ]
  },
  {
   "cell_type": "code",
   "execution_count": 246,
   "id": "ec767c56-6bba-4cf3-b95a-35a9b650e33b",
   "metadata": {},
   "outputs": [
    {
     "data": {
      "text/plain": [
       "int_rate\n",
       "10.99%    913\n",
       "11.49%    790\n",
       "7.51%     787\n",
       "13.49%    749\n",
       "7.88%     725\n",
       "         ... \n",
       "16.96%      1\n",
       "18.36%      1\n",
       "16.15%      1\n",
       "16.01%      1\n",
       "16.20%      1\n",
       "Name: count, Length: 370, dtype: int64"
      ]
     },
     "execution_count": 246,
     "metadata": {},
     "output_type": "execute_result"
    }
   ],
   "source": [
    "loan_df['int_rate'].value_counts()"
   ]
  },
  {
   "cell_type": "code",
   "execution_count": 247,
   "id": "8b79ee36-b9ad-448d-acd6-b90d2fec7f07",
   "metadata": {
    "scrolled": true
   },
   "outputs": [
    {
     "data": {
      "text/plain": [
       "int_rate\n",
       "10.99    913\n",
       "11.49    790\n",
       "7.51     787\n",
       "13.49    749\n",
       "7.88     725\n",
       "        ... \n",
       "16.96      1\n",
       "18.36      1\n",
       "16.15      1\n",
       "16.01      1\n",
       "16.20      1\n",
       "Name: count, Length: 370, dtype: int64"
      ]
     },
     "execution_count": 247,
     "metadata": {},
     "output_type": "execute_result"
    }
   ],
   "source": [
    "# Convert int_rate from string to float.\n",
    "loan_df['int_rate']=loan_df['int_rate'].str.strip('%').astype(float)\n",
    "loan_df['int_rate'].value_counts()"
   ]
  },
  {
   "cell_type": "code",
   "execution_count": 37,
   "id": "36ef8b98-b4f1-47e9-acbc-ce92019dc6dd",
   "metadata": {},
   "outputs": [
    {
     "data": {
      "text/html": [
       "<div>\n",
       "<style scoped>\n",
       "    .dataframe tbody tr th:only-of-type {\n",
       "        vertical-align: middle;\n",
       "    }\n",
       "\n",
       "    .dataframe tbody tr th {\n",
       "        vertical-align: top;\n",
       "    }\n",
       "\n",
       "    .dataframe thead th {\n",
       "        text-align: right;\n",
       "    }\n",
       "</style>\n",
       "<table border=\"1\" class=\"dataframe\">\n",
       "  <thead>\n",
       "    <tr style=\"text-align: right;\">\n",
       "      <th></th>\n",
       "      <th>id</th>\n",
       "      <th>loan_amnt</th>\n",
       "      <th>funded_amnt</th>\n",
       "      <th>funded_amnt_inv</th>\n",
       "      <th>term</th>\n",
       "      <th>int_rate</th>\n",
       "      <th>installment</th>\n",
       "      <th>grade</th>\n",
       "      <th>emp_length</th>\n",
       "      <th>home_ownership</th>\n",
       "      <th>annual_inc</th>\n",
       "      <th>verification_status</th>\n",
       "      <th>issue_d</th>\n",
       "      <th>loan_status</th>\n",
       "      <th>purpose</th>\n",
       "      <th>zip_code</th>\n",
       "      <th>addr_state</th>\n",
       "      <th>dti</th>\n",
       "      <th>pub_rec_bankruptcies</th>\n",
       "    </tr>\n",
       "  </thead>\n",
       "  <tbody>\n",
       "    <tr>\n",
       "      <th>0</th>\n",
       "      <td>1077501</td>\n",
       "      <td>5000.0</td>\n",
       "      <td>5000.0</td>\n",
       "      <td>4975.0</td>\n",
       "      <td>36</td>\n",
       "      <td>10.65</td>\n",
       "      <td>162.87</td>\n",
       "      <td>B</td>\n",
       "      <td>10+ years</td>\n",
       "      <td>RENT</td>\n",
       "      <td>24000.0</td>\n",
       "      <td>Verified</td>\n",
       "      <td>Dec-11</td>\n",
       "      <td>Fully Paid</td>\n",
       "      <td>credit_card</td>\n",
       "      <td>860xx</td>\n",
       "      <td>AZ</td>\n",
       "      <td>27.65</td>\n",
       "      <td>0.0</td>\n",
       "    </tr>\n",
       "    <tr>\n",
       "      <th>1</th>\n",
       "      <td>1077430</td>\n",
       "      <td>2500.0</td>\n",
       "      <td>2500.0</td>\n",
       "      <td>2500.0</td>\n",
       "      <td>60</td>\n",
       "      <td>15.27</td>\n",
       "      <td>59.83</td>\n",
       "      <td>C</td>\n",
       "      <td>&lt; 1 year</td>\n",
       "      <td>RENT</td>\n",
       "      <td>30000.0</td>\n",
       "      <td>Source Verified</td>\n",
       "      <td>Dec-11</td>\n",
       "      <td>Charged Off</td>\n",
       "      <td>car</td>\n",
       "      <td>309xx</td>\n",
       "      <td>GA</td>\n",
       "      <td>1.00</td>\n",
       "      <td>0.0</td>\n",
       "    </tr>\n",
       "    <tr>\n",
       "      <th>2</th>\n",
       "      <td>1077175</td>\n",
       "      <td>2400.0</td>\n",
       "      <td>2400.0</td>\n",
       "      <td>2400.0</td>\n",
       "      <td>36</td>\n",
       "      <td>15.96</td>\n",
       "      <td>84.33</td>\n",
       "      <td>C</td>\n",
       "      <td>10+ years</td>\n",
       "      <td>RENT</td>\n",
       "      <td>12252.0</td>\n",
       "      <td>Not Verified</td>\n",
       "      <td>Dec-11</td>\n",
       "      <td>Fully Paid</td>\n",
       "      <td>small_business</td>\n",
       "      <td>606xx</td>\n",
       "      <td>IL</td>\n",
       "      <td>8.72</td>\n",
       "      <td>0.0</td>\n",
       "    </tr>\n",
       "    <tr>\n",
       "      <th>3</th>\n",
       "      <td>1076863</td>\n",
       "      <td>10000.0</td>\n",
       "      <td>10000.0</td>\n",
       "      <td>10000.0</td>\n",
       "      <td>36</td>\n",
       "      <td>13.49</td>\n",
       "      <td>339.31</td>\n",
       "      <td>C</td>\n",
       "      <td>10+ years</td>\n",
       "      <td>RENT</td>\n",
       "      <td>49200.0</td>\n",
       "      <td>Source Verified</td>\n",
       "      <td>Dec-11</td>\n",
       "      <td>Fully Paid</td>\n",
       "      <td>other</td>\n",
       "      <td>917xx</td>\n",
       "      <td>CA</td>\n",
       "      <td>20.00</td>\n",
       "      <td>0.0</td>\n",
       "    </tr>\n",
       "    <tr>\n",
       "      <th>5</th>\n",
       "      <td>1075269</td>\n",
       "      <td>5000.0</td>\n",
       "      <td>5000.0</td>\n",
       "      <td>5000.0</td>\n",
       "      <td>36</td>\n",
       "      <td>7.90</td>\n",
       "      <td>156.46</td>\n",
       "      <td>A</td>\n",
       "      <td>3 years</td>\n",
       "      <td>RENT</td>\n",
       "      <td>36000.0</td>\n",
       "      <td>Source Verified</td>\n",
       "      <td>Dec-11</td>\n",
       "      <td>Fully Paid</td>\n",
       "      <td>wedding</td>\n",
       "      <td>852xx</td>\n",
       "      <td>AZ</td>\n",
       "      <td>11.20</td>\n",
       "      <td>0.0</td>\n",
       "    </tr>\n",
       "    <tr>\n",
       "      <th>...</th>\n",
       "      <td>...</td>\n",
       "      <td>...</td>\n",
       "      <td>...</td>\n",
       "      <td>...</td>\n",
       "      <td>...</td>\n",
       "      <td>...</td>\n",
       "      <td>...</td>\n",
       "      <td>...</td>\n",
       "      <td>...</td>\n",
       "      <td>...</td>\n",
       "      <td>...</td>\n",
       "      <td>...</td>\n",
       "      <td>...</td>\n",
       "      <td>...</td>\n",
       "      <td>...</td>\n",
       "      <td>...</td>\n",
       "      <td>...</td>\n",
       "      <td>...</td>\n",
       "      <td>...</td>\n",
       "    </tr>\n",
       "    <tr>\n",
       "      <th>39712</th>\n",
       "      <td>92187</td>\n",
       "      <td>2500.0</td>\n",
       "      <td>2500.0</td>\n",
       "      <td>1075.0</td>\n",
       "      <td>36</td>\n",
       "      <td>8.07</td>\n",
       "      <td>78.42</td>\n",
       "      <td>A</td>\n",
       "      <td>4 years</td>\n",
       "      <td>MORTGAGE</td>\n",
       "      <td>110000.0</td>\n",
       "      <td>Not Verified</td>\n",
       "      <td>Jul-07</td>\n",
       "      <td>Fully Paid</td>\n",
       "      <td>home_improvement</td>\n",
       "      <td>802xx</td>\n",
       "      <td>CO</td>\n",
       "      <td>11.33</td>\n",
       "      <td>NaN</td>\n",
       "    </tr>\n",
       "    <tr>\n",
       "      <th>39713</th>\n",
       "      <td>90665</td>\n",
       "      <td>8500.0</td>\n",
       "      <td>8500.0</td>\n",
       "      <td>875.0</td>\n",
       "      <td>36</td>\n",
       "      <td>10.28</td>\n",
       "      <td>275.38</td>\n",
       "      <td>C</td>\n",
       "      <td>3 years</td>\n",
       "      <td>RENT</td>\n",
       "      <td>18000.0</td>\n",
       "      <td>Not Verified</td>\n",
       "      <td>Jul-07</td>\n",
       "      <td>Fully Paid</td>\n",
       "      <td>credit_card</td>\n",
       "      <td>274xx</td>\n",
       "      <td>NC</td>\n",
       "      <td>6.40</td>\n",
       "      <td>NaN</td>\n",
       "    </tr>\n",
       "    <tr>\n",
       "      <th>39714</th>\n",
       "      <td>90395</td>\n",
       "      <td>5000.0</td>\n",
       "      <td>5000.0</td>\n",
       "      <td>1325.0</td>\n",
       "      <td>36</td>\n",
       "      <td>8.07</td>\n",
       "      <td>156.84</td>\n",
       "      <td>A</td>\n",
       "      <td>&lt; 1 year</td>\n",
       "      <td>MORTGAGE</td>\n",
       "      <td>100000.0</td>\n",
       "      <td>Not Verified</td>\n",
       "      <td>Jul-07</td>\n",
       "      <td>Fully Paid</td>\n",
       "      <td>debt_consolidation</td>\n",
       "      <td>017xx</td>\n",
       "      <td>MA</td>\n",
       "      <td>2.30</td>\n",
       "      <td>NaN</td>\n",
       "    </tr>\n",
       "    <tr>\n",
       "      <th>39715</th>\n",
       "      <td>90376</td>\n",
       "      <td>5000.0</td>\n",
       "      <td>5000.0</td>\n",
       "      <td>650.0</td>\n",
       "      <td>36</td>\n",
       "      <td>7.43</td>\n",
       "      <td>155.38</td>\n",
       "      <td>A</td>\n",
       "      <td>&lt; 1 year</td>\n",
       "      <td>MORTGAGE</td>\n",
       "      <td>200000.0</td>\n",
       "      <td>Not Verified</td>\n",
       "      <td>Jul-07</td>\n",
       "      <td>Fully Paid</td>\n",
       "      <td>other</td>\n",
       "      <td>208xx</td>\n",
       "      <td>MD</td>\n",
       "      <td>3.72</td>\n",
       "      <td>NaN</td>\n",
       "    </tr>\n",
       "    <tr>\n",
       "      <th>39716</th>\n",
       "      <td>87023</td>\n",
       "      <td>7500.0</td>\n",
       "      <td>7500.0</td>\n",
       "      <td>800.0</td>\n",
       "      <td>36</td>\n",
       "      <td>13.75</td>\n",
       "      <td>255.43</td>\n",
       "      <td>E</td>\n",
       "      <td>&lt; 1 year</td>\n",
       "      <td>OWN</td>\n",
       "      <td>22000.0</td>\n",
       "      <td>Not Verified</td>\n",
       "      <td>Jun-07</td>\n",
       "      <td>Fully Paid</td>\n",
       "      <td>debt_consolidation</td>\n",
       "      <td>027xx</td>\n",
       "      <td>MA</td>\n",
       "      <td>14.29</td>\n",
       "      <td>NaN</td>\n",
       "    </tr>\n",
       "  </tbody>\n",
       "</table>\n",
       "<p>38577 rows × 19 columns</p>\n",
       "</div>"
      ],
      "text/plain": [
       "            id  loan_amnt  funded_amnt  funded_amnt_inv  term  int_rate  \\\n",
       "0      1077501     5000.0       5000.0           4975.0    36     10.65   \n",
       "1      1077430     2500.0       2500.0           2500.0    60     15.27   \n",
       "2      1077175     2400.0       2400.0           2400.0    36     15.96   \n",
       "3      1076863    10000.0      10000.0          10000.0    36     13.49   \n",
       "5      1075269     5000.0       5000.0           5000.0    36      7.90   \n",
       "...        ...        ...          ...              ...   ...       ...   \n",
       "39712    92187     2500.0       2500.0           1075.0    36      8.07   \n",
       "39713    90665     8500.0       8500.0            875.0    36     10.28   \n",
       "39714    90395     5000.0       5000.0           1325.0    36      8.07   \n",
       "39715    90376     5000.0       5000.0            650.0    36      7.43   \n",
       "39716    87023     7500.0       7500.0            800.0    36     13.75   \n",
       "\n",
       "       installment grade emp_length home_ownership  annual_inc  \\\n",
       "0           162.87     B  10+ years           RENT     24000.0   \n",
       "1            59.83     C   < 1 year           RENT     30000.0   \n",
       "2            84.33     C  10+ years           RENT     12252.0   \n",
       "3           339.31     C  10+ years           RENT     49200.0   \n",
       "5           156.46     A    3 years           RENT     36000.0   \n",
       "...            ...   ...        ...            ...         ...   \n",
       "39712        78.42     A    4 years       MORTGAGE    110000.0   \n",
       "39713       275.38     C    3 years           RENT     18000.0   \n",
       "39714       156.84     A   < 1 year       MORTGAGE    100000.0   \n",
       "39715       155.38     A   < 1 year       MORTGAGE    200000.0   \n",
       "39716       255.43     E   < 1 year            OWN     22000.0   \n",
       "\n",
       "      verification_status issue_d  loan_status             purpose zip_code  \\\n",
       "0                Verified  Dec-11   Fully Paid         credit_card    860xx   \n",
       "1         Source Verified  Dec-11  Charged Off                 car    309xx   \n",
       "2            Not Verified  Dec-11   Fully Paid      small_business    606xx   \n",
       "3         Source Verified  Dec-11   Fully Paid               other    917xx   \n",
       "5         Source Verified  Dec-11   Fully Paid             wedding    852xx   \n",
       "...                   ...     ...          ...                 ...      ...   \n",
       "39712        Not Verified  Jul-07   Fully Paid    home_improvement    802xx   \n",
       "39713        Not Verified  Jul-07   Fully Paid         credit_card    274xx   \n",
       "39714        Not Verified  Jul-07   Fully Paid  debt_consolidation    017xx   \n",
       "39715        Not Verified  Jul-07   Fully Paid               other    208xx   \n",
       "39716        Not Verified  Jun-07   Fully Paid  debt_consolidation    027xx   \n",
       "\n",
       "      addr_state    dti  pub_rec_bankruptcies  \n",
       "0             AZ  27.65                   0.0  \n",
       "1             GA   1.00                   0.0  \n",
       "2             IL   8.72                   0.0  \n",
       "3             CA  20.00                   0.0  \n",
       "5             AZ  11.20                   0.0  \n",
       "...          ...    ...                   ...  \n",
       "39712         CO  11.33                   NaN  \n",
       "39713         NC   6.40                   NaN  \n",
       "39714         MA   2.30                   NaN  \n",
       "39715         MD   3.72                   NaN  \n",
       "39716         MA  14.29                   NaN  \n",
       "\n",
       "[38577 rows x 19 columns]"
      ]
     },
     "execution_count": 37,
     "metadata": {},
     "output_type": "execute_result"
    }
   ],
   "source": [
    "# Convert the column loan_funded_amnt and funded_amnt as float64\n",
    "loan_df = loan_df.astype({'loan_amnt':'float','funded_amnt':'float'})\n",
    "loan_df"
   ]
  },
  {
   "cell_type": "code",
   "execution_count": 248,
   "id": "10006173-b965-469f-b1cb-66dc9dbfa040",
   "metadata": {},
   "outputs": [
    {
     "data": {
      "text/plain": [
       "grade\n",
       "B    11675\n",
       "A    10045\n",
       "C     7834\n",
       "D     5085\n",
       "E     2663\n",
       "F      976\n",
       "G      299\n",
       "Name: count, dtype: int64"
      ]
     },
     "execution_count": 248,
     "metadata": {},
     "output_type": "execute_result"
    }
   ],
   "source": [
    "# check grade datatype.\n",
    "loan_df['grade'].value_counts()"
   ]
  },
  {
   "cell_type": "code",
   "execution_count": 249,
   "id": "9968b3af-4deb-4618-af9e-d2c2da268e00",
   "metadata": {},
   "outputs": [
    {
     "data": {
      "text/plain": [
       "emp_length\n",
       "10+ years    8488\n",
       "< 1 year     4508\n",
       "2 years      4291\n",
       "3 years      4012\n",
       "4 years      3342\n",
       "5 years      3194\n",
       "1 year       3169\n",
       "6 years      2168\n",
       "7 years      1711\n",
       "8 years      1435\n",
       "9 years      1226\n",
       "Name: count, dtype: int64"
      ]
     },
     "execution_count": 249,
     "metadata": {},
     "output_type": "execute_result"
    }
   ],
   "source": [
    "loan_df['emp_length'].value_counts()"
   ]
  },
  {
   "cell_type": "code",
   "execution_count": 250,
   "id": "5a8777e9-80ff-4cd9-8c7e-827627340167",
   "metadata": {},
   "outputs": [
    {
     "name": "stdout",
     "output_type": "stream",
     "text": [
      "0         5000\n",
      "1         2500\n",
      "2         2400\n",
      "3        10000\n",
      "5         5000\n",
      "         ...  \n",
      "39712     2500\n",
      "39713     8500\n",
      "39714     5000\n",
      "39715     5000\n",
      "39716     7500\n",
      "Name: loan_amnt, Length: 38577, dtype: int64\n",
      "0         5000\n",
      "1         2500\n",
      "2         2400\n",
      "3        10000\n",
      "5         5000\n",
      "         ...  \n",
      "39712     2500\n",
      "39713     8500\n",
      "39714     5000\n",
      "39715     5000\n",
      "39716     7500\n",
      "Name: funded_amnt, Length: 38577, dtype: int64\n",
      "0         4975.0\n",
      "1         2500.0\n",
      "2         2400.0\n",
      "3        10000.0\n",
      "5         5000.0\n",
      "          ...   \n",
      "39712     1075.0\n",
      "39713      875.0\n",
      "39714     1325.0\n",
      "39715      650.0\n",
      "39716      800.0\n",
      "Name: funded_amnt_inv, Length: 38577, dtype: float64\n",
      "0        10.65\n",
      "1        15.27\n",
      "2        15.96\n",
      "3        13.49\n",
      "5         7.90\n",
      "         ...  \n",
      "39712     8.07\n",
      "39713    10.28\n",
      "39714     8.07\n",
      "39715     7.43\n",
      "39716    13.75\n",
      "Name: int_rate, Length: 38577, dtype: float64\n",
      "0        27.65\n",
      "1         1.00\n",
      "2         8.72\n",
      "3        20.00\n",
      "5        11.20\n",
      "         ...  \n",
      "39712    11.33\n",
      "39713     6.40\n",
      "39714     2.30\n",
      "39715     3.72\n",
      "39716    14.29\n",
      "Name: dti, Length: 38577, dtype: float64\n"
     ]
    }
   ],
   "source": [
    "# Rounding off the below column values to two decimals points.\n",
    "for col in ['loan_amnt', 'funded_amnt', 'funded_amnt_inv', 'int_rate', 'dti']:\n",
    "    loan_df[col] = loan_df[col].apply(lambda x: round(x,2))\n",
    "    print(loan_df[col])"
   ]
  },
  {
   "cell_type": "code",
   "execution_count": 251,
   "id": "4f8bef4b-a2f0-4a78-9622-73a2d709ce05",
   "metadata": {},
   "outputs": [
    {
     "data": {
      "text/plain": [
       "0       2011-12-01\n",
       "1       2011-12-01\n",
       "2       2011-12-01\n",
       "3       2011-12-01\n",
       "5       2011-12-01\n",
       "           ...    \n",
       "39712   2007-07-01\n",
       "39713   2007-07-01\n",
       "39714   2007-07-01\n",
       "39715   2007-07-01\n",
       "39716   2007-06-01\n",
       "Name: issue_d, Length: 38577, dtype: datetime64[ns]"
      ]
     },
     "execution_count": 251,
     "metadata": {},
     "output_type": "execute_result"
    }
   ],
   "source": [
    "#converting issue_d`to date type as it will help in easily deriving year and month in our analysis\n",
    "loan_df['issue_d'] = pd.to_datetime(loan_df.issue_d, format='%b-%y')\n",
    "loan_df['issue_d']"
   ]
  },
  {
   "cell_type": "code",
   "execution_count": 252,
   "id": "5a7d594d-d638-45c1-beb8-74ff6ee126c9",
   "metadata": {},
   "outputs": [
    {
     "data": {
      "text/plain": [
       "id                      0.000000\n",
       "loan_amnt               0.000000\n",
       "funded_amnt             0.000000\n",
       "funded_amnt_inv         0.000000\n",
       "term                    0.000000\n",
       "int_rate                0.000000\n",
       "installment             0.000000\n",
       "grade                   0.000000\n",
       "emp_length              2.677761\n",
       "home_ownership          0.000000\n",
       "annual_inc              0.000000\n",
       "verification_status     0.000000\n",
       "issue_d                 0.000000\n",
       "loan_status             0.000000\n",
       "purpose                 0.000000\n",
       "zip_code                0.000000\n",
       "addr_state              0.000000\n",
       "dti                     0.000000\n",
       "pub_rec_bankruptcies    1.806776\n",
       "dtype: float64"
      ]
     },
     "execution_count": 252,
     "metadata": {},
     "output_type": "execute_result"
    }
   ],
   "source": [
    "# Checking how much percentage of data is null each column\n",
    "(loan_df.isnull().sum()*100)/len(loan_df)"
   ]
  },
  {
   "cell_type": "markdown",
   "id": "973e039d-ca13-4683-9d54-80a0e0ce68f3",
   "metadata": {},
   "source": [
    "# 3. Dropping or Imputing the rows"
   ]
  },
  {
   "cell_type": "code",
   "execution_count": 253,
   "id": "4b099e5a-5856-4015-b442-6b93536d0c42",
   "metadata": {},
   "outputs": [
    {
     "data": {
      "text/plain": [
       "38577"
      ]
     },
     "execution_count": 253,
     "metadata": {},
     "output_type": "execute_result"
    }
   ],
   "source": [
    "# Dropping the null rows for emp_length and pub_rec_bankruptcies columns as number of null rows are very less.\n",
    "prev_rows=len(loan_df)\n",
    "prev_rows"
   ]
  },
  {
   "cell_type": "code",
   "execution_count": 254,
   "id": "9b42e9e2-1501-4080-bf00-491b3ef204f6",
   "metadata": {},
   "outputs": [],
   "source": [
    "loan_df= loan_df[loan_df['emp_length'].notna()]\n",
    "loan_df= loan_df[loan_df['pub_rec_bankruptcies'].notna()]"
   ]
  },
  {
   "cell_type": "code",
   "execution_count": 255,
   "id": "97588ad7-83be-4326-830f-d8d3e1192be2",
   "metadata": {},
   "outputs": [
    {
     "name": "stdout",
     "output_type": "stream",
     "text": [
      "Total % of rows deleted: 4.48\n",
      "(36847, 19)\n"
     ]
    }
   ],
   "source": [
    "after_rows=len(loan_df)\n",
    "total_deleted=((prev_rows-after_rows)*100)/prev_rows\n",
    "print(\"Total % of rows deleted:\",round(total_deleted,2))\n",
    "print(loan_df.shape)"
   ]
  },
  {
   "cell_type": "code",
   "execution_count": 256,
   "id": "1608a764-1b4b-40d1-96fd-966fdf4eef69",
   "metadata": {},
   "outputs": [
    {
     "data": {
      "text/plain": [
       "id                      0.0\n",
       "loan_amnt               0.0\n",
       "funded_amnt             0.0\n",
       "funded_amnt_inv         0.0\n",
       "term                    0.0\n",
       "int_rate                0.0\n",
       "installment             0.0\n",
       "grade                   0.0\n",
       "emp_length              0.0\n",
       "home_ownership          0.0\n",
       "annual_inc              0.0\n",
       "verification_status     0.0\n",
       "issue_d                 0.0\n",
       "loan_status             0.0\n",
       "purpose                 0.0\n",
       "zip_code                0.0\n",
       "addr_state              0.0\n",
       "dti                     0.0\n",
       "pub_rec_bankruptcies    0.0\n",
       "dtype: float64"
      ]
     },
     "execution_count": 256,
     "metadata": {},
     "output_type": "execute_result"
    }
   ],
   "source": [
    "# Checking for null values percentage again\n",
    "(loan_df.isnull().sum()*100)/len(loan_df) # so no na any mmore"
   ]
  },
  {
   "cell_type": "code",
   "execution_count": 257,
   "id": "f9b08161-244e-4584-a66e-1adce7d6733f",
   "metadata": {},
   "outputs": [],
   "source": [
    "def strip_emp_length(x):\n",
    "  x=x.strip(\"years\")\n",
    "  x=x.strip(\"<\")\n",
    "  x=x.replace(\" \", \"\")\n",
    "  x=x.replace(\"+\", \"\")\n",
    "  return x\n",
    "\n",
    "loan_df['emp_length']=loan_df['emp_length'].apply(lambda x : strip_emp_length(x) )"
   ]
  },
  {
   "cell_type": "code",
   "execution_count": 258,
   "id": "902f43f0-af5e-4851-9662-96cb2ab05d65",
   "metadata": {},
   "outputs": [
    {
     "name": "stdout",
     "output_type": "stream",
     "text": [
      "0        10\n",
      "1         1\n",
      "2        10\n",
      "3        10\n",
      "5         3\n",
      "         ..\n",
      "39562     1\n",
      "39573     3\n",
      "39623     8\n",
      "39666     2\n",
      "39680     2\n",
      "Name: emp_length, Length: 36847, dtype: object\n"
     ]
    }
   ],
   "source": [
    "print(loan_df['emp_length'])"
   ]
  },
  {
   "cell_type": "markdown",
   "id": "2516ec0c-cc8d-4069-acb2-e2bf0ca65029",
   "metadata": {},
   "source": [
    "# 4. Derived Metrics"
   ]
  },
  {
   "cell_type": "code",
   "execution_count": 259,
   "id": "9eb8756c-a14b-4be5-8cda-ff7bdc2fa9d9",
   "metadata": {},
   "outputs": [],
   "source": [
    "# Creating a derived columns for issue month and issue year from issues date\n",
    "loan_df['issue_year']=pd.DatetimeIndex(loan_df['issue_d']).year\n",
    "loan_df['issue_month']=pd.DatetimeIndex(loan_df['issue_d']).month"
   ]
  },
  {
   "cell_type": "markdown",
   "id": "ad8e71e1-7305-4329-8995-7b3e6fe3d13e",
   "metadata": {},
   "source": [
    "# 5. Removing outliers"
   ]
  },
  {
   "cell_type": "code",
   "execution_count": 260,
   "id": "879e90a0-eb4d-43d0-97fe-5b1e4bc8a14c",
   "metadata": {},
   "outputs": [
    {
     "name": "stdout",
     "output_type": "stream",
     "text": [
      "(36847, 21)\n",
      "count    36847.000000\n",
      "mean     11141.327652\n",
      "std       7369.988994\n",
      "min        500.000000\n",
      "25%       5500.000000\n",
      "50%      10000.000000\n",
      "75%      15000.000000\n",
      "max      35000.000000\n",
      "Name: loan_amnt, dtype: float64\n"
     ]
    },
    {
     "data": {
      "text/plain": [
       "<Axes: >"
      ]
     },
     "execution_count": 260,
     "metadata": {},
     "output_type": "execute_result"
    },
    {
     "data": {
      "image/png": "[encoded data removed]",
      "text/plain": [
       "<Figure size 640x480 with 1 Axes>"
      ]
     },
     "metadata": {},
     "output_type": "display_data"
    }
   ],
   "source": [
    "print(loan_df.shape)\n",
    "print(loan_df[\"loan_amnt\"].describe())\n",
    "loan_df['loan_amnt'].plot(kind='box')"
   ]
  },
  {
   "cell_type": "code",
   "execution_count": 261,
   "id": "de8841c2-f340-40b0-aeb9-9c88b284ce29",
   "metadata": {},
   "outputs": [
    {
     "data": {
      "image/png": "[encoded data removed]",
      "text/plain": [
       "<Figure size 640x480 with 1 Axes>"
      ]
     },
     "metadata": {},
     "output_type": "display_data"
    }
   ],
   "source": [
    "plot.boxplot(loan_df['funded_amnt'])\n",
    "plot.show()"
   ]
  },
  {
   "cell_type": "code",
   "execution_count": 262,
   "id": "66933057-f55e-4974-8ee6-b75c443f6e31",
   "metadata": {},
   "outputs": [
    {
     "data": {
      "image/png": "[encoded data removed]",
      "text/plain": [
       "<Figure size 640x480 with 1 Axes>"
      ]
     },
     "metadata": {},
     "output_type": "display_data"
    }
   ],
   "source": [
    "plot.boxplot(loan_df['funded_amnt_inv'])\n",
    "plot.show()"
   ]
  },
  {
   "cell_type": "code",
   "execution_count": 263,
   "id": "425e5726-33e8-4dc2-ae70-7ce8aa6a9ff9",
   "metadata": {},
   "outputs": [
    {
     "data": {
      "image/png": "[encoded data removed]",
      "text/plain": [
       "<Figure size 640x480 with 1 Axes>"
      ]
     },
     "metadata": {},
     "output_type": "display_data"
    }
   ],
   "source": [
    "plot.boxplot(loan_df['annual_inc'])\n",
    "plot.show()"
   ]
  },
  {
   "cell_type": "code",
   "execution_count": 264,
   "id": "298cfbc4-b94b-4163-b5bf-088dea286e78",
   "metadata": {},
   "outputs": [
    {
     "data": {
      "image/png": "[encoded data removed]",
      "text/plain": [
       "<Figure size 640x480 with 1 Axes>"
      ]
     },
     "metadata": {},
     "output_type": "display_data"
    }
   ],
   "source": [
    "plot.boxplot(loan_df['int_rate'])\n",
    "plot.show()"
   ]
  },
  {
   "cell_type": "code",
   "execution_count": 265,
   "id": "e85393e8-e22b-4b6a-984c-781693c17b83",
   "metadata": {},
   "outputs": [
    {
     "data": {
      "image/png": "[encoded data removed]",
      "text/plain": [
       "<Figure size 640x480 with 1 Axes>"
      ]
     },
     "metadata": {},
     "output_type": "display_data"
    }
   ],
   "source": [
    "plot.boxplot(loan_df['dti'])\n",
    "plot.show()"
   ]
  },
  {
   "cell_type": "code",
   "execution_count": 266,
   "id": "f1ad21d1-7bd2-4152-9f1b-759e90f5a662",
   "metadata": {},
   "outputs": [
    {
     "data": {
      "image/png": "[encoded data removed]",
      "text/plain": [
       "<Figure size 640x480 with 1 Axes>"
      ]
     },
     "metadata": {},
     "output_type": "display_data"
    }
   ],
   "source": [
    "plot.boxplot(loan_df['installment'])\n",
    "plot.show()"
   ]
  },
  {
   "cell_type": "code",
   "execution_count": 267,
   "id": "5a745ec2-ec89-4aeb-8343-0ae2dff887b5",
   "metadata": {},
   "outputs": [],
   "source": [
    "# From above box plts we can see there is otliers exits for columns'loan_amnt', 'funded_amnt', 'funded_amnt_inv', 'int_rate', 'installment', 'annual_inc'.\n",
    "# Lets remove the outlier\n",
    "outliers_columns_set1= ['loan_amnt', 'funded_amnt', 'funded_amnt_inv']\n",
    "outliers_columns_set2=['int_rate', 'installment', 'annual_inc']\n",
    "# Define a function to remove outliers based on IQR\n",
    "def remove_outliers_iqr(data, columns,threshold):\n",
    "    for col in columns:\n",
    "        Q1 = data[col].quantile(0.25)\n",
    "        Q3 = data[col].quantile(0.75)\n",
    "        IQR = Q3 - Q1\n",
    "        lower_bound = Q1 - threshold * IQR\n",
    "        upper_bound = Q3 + threshold * IQR\n",
    "        data = data[(data[col] >= lower_bound) & (data[col] <= upper_bound)]\n",
    "    return data\n",
    "\n",
    "# Remove outliers from the DataFrame\n",
    "loan_df =remove_outliers_iqr(loan_df, outliers_columns_set1,1.5)\n",
    "loan_df =remove_outliers_iqr(loan_df, outliers_columns_set2,1.5)"
   ]
  },
  {
   "cell_type": "markdown",
   "id": "6e6ec44b-99e3-4e56-ae54-99c65d720629",
   "metadata": {},
   "source": [
    "##### Checking if outliers got removed"
   ]
  },
  {
   "cell_type": "code",
   "execution_count": 268,
   "id": "768bb387-8ad5-4a2f-a5e6-83994fc560f2",
   "metadata": {},
   "outputs": [
    {
     "data": {
      "image/png": "[encoded data removed]",
      "text/plain": [
       "<Figure size 640x480 with 1 Axes>"
      ]
     },
     "metadata": {},
     "output_type": "display_data"
    }
   ],
   "source": [
    "plot.boxplot(loan_df['loan_amnt'])\n",
    "plot.show()"
   ]
  },
  {
   "cell_type": "code",
   "execution_count": 269,
   "id": "0dfdab43-f044-406d-a450-9643eb701d3e",
   "metadata": {},
   "outputs": [
    {
     "data": {
      "image/png": "[encoded data removed]",
      "text/plain": [
       "<Figure size 640x480 with 1 Axes>"
      ]
     },
     "metadata": {},
     "output_type": "display_data"
    }
   ],
   "source": [
    "plot.boxplot(loan_df['funded_amnt'])\n",
    "plot.show()"
   ]
  },
  {
   "cell_type": "code",
   "execution_count": 270,
   "id": "e4452b31-8ce9-4ac3-96b0-152d4e97ed9f",
   "metadata": {},
   "outputs": [
    {
     "data": {
      "image/png": "[encoded data removed]",
      "text/plain": [
       "<Figure size 640x480 with 1 Axes>"
      ]
     },
     "metadata": {},
     "output_type": "display_data"
    }
   ],
   "source": [
    "plot.boxplot(loan_df['funded_amnt_inv'])\n",
    "plot.show()"
   ]
  },
  {
   "cell_type": "code",
   "execution_count": 271,
   "id": "a19a1ab8-1ff9-4d1f-bbd1-1db0e962412f",
   "metadata": {},
   "outputs": [
    {
     "data": {
      "image/png": "[encoded data removed]",
      "text/plain": [
       "<Figure size 640x480 with 1 Axes>"
      ]
     },
     "metadata": {},
     "output_type": "display_data"
    }
   ],
   "source": [
    "plot.boxplot(loan_df['int_rate'])\n",
    "plot.show()"
   ]
  },
  {
   "cell_type": "code",
   "execution_count": 272,
   "id": "650b807f-eb99-4c20-a038-c0efce97277d",
   "metadata": {},
   "outputs": [
    {
     "data": {
      "image/png": "[encoded data removed]",
      "text/plain": [
       "<Figure size 640x480 with 1 Axes>"
      ]
     },
     "metadata": {},
     "output_type": "display_data"
    }
   ],
   "source": [
    "plot.boxplot(loan_df['installment'])\n",
    "plot.show()"
   ]
  },
  {
   "cell_type": "code",
   "execution_count": 273,
   "id": "38c5058f-05ad-422f-ba1b-c05d9760d7f3",
   "metadata": {},
   "outputs": [
    {
     "data": {
      "image/png": "[encoded data removed]",
      "text/plain": [
       "<Figure size 640x480 with 1 Axes>"
      ]
     },
     "metadata": {},
     "output_type": "display_data"
    }
   ],
   "source": [
    "plot.boxplot(loan_df['annual_inc'])\n",
    "plot.show()"
   ]
  },
  {
   "cell_type": "markdown",
   "id": "77be0125-0723-4da8-98eb-0c7c57d1eb9e",
   "metadata": {},
   "source": [
    "##### As you can see, the outliers got removed, we can start with the analysis"
   ]
  },
  {
   "cell_type": "markdown",
   "id": "9ba52ea0-170a-42e3-b5b3-f13c8f963f56",
   "metadata": {},
   "source": [
    "# 6. Univariate Analysis\n",
    "\n",
    "Now the data is cleaned and prepared for analysis, we can proceed with our analysis"
   ]
  },
  {
   "cell_type": "code",
   "execution_count": 274,
   "id": "9e1f26ff-8035-4551-a510-2df1ac24dc02",
   "metadata": {},
   "outputs": [],
   "source": [
    "# Function for dividing a column into Bins\n",
    "def divide_bins(column):\n",
    "    new_column = column + '_range'\n",
    "    labels = ['Lowest ','Lower ','Medium ','Higher ','Highest ']\n",
    "    labels = [labels[p] + '(' +\n",
    "        str(round(np.nanpercentile(loan_df[column], p * 20),2)) + ' - ' +\n",
    "        str(round(np.nanpercentile(loan_df[column], (p+1) * 20),2))+ ')'\n",
    "    for p in range(5)]\n",
    "    loan_df[new_column] = pd.qcut(loan_df[column], q=5, labels=labels)"
   ]
  },
  {
   "cell_type": "code",
   "execution_count": 275,
   "id": "1a6adbe0-065c-4c54-800b-60f895e86ff0",
   "metadata": {},
   "outputs": [],
   "source": [
    "divide_bins('loan_amnt')"
   ]
  },
  {
   "cell_type": "code",
   "execution_count": 276,
   "id": "b06b7024-0651-4d1e-8e72-f8268d57914c",
   "metadata": {},
   "outputs": [
    {
     "data": {
      "text/html": [
       "<div>\n",
       "<style scoped>\n",
       "    .dataframe tbody tr th:only-of-type {\n",
       "        vertical-align: middle;\n",
       "    }\n",
       "\n",
       "    .dataframe tbody tr th {\n",
       "        vertical-align: top;\n",
       "    }\n",
       "\n",
       "    .dataframe thead th {\n",
       "        text-align: right;\n",
       "    }\n",
       "</style>\n",
       "<table border=\"1\" class=\"dataframe\">\n",
       "  <thead>\n",
       "    <tr style=\"text-align: right;\">\n",
       "      <th></th>\n",
       "      <th>id</th>\n",
       "      <th>loan_amnt</th>\n",
       "      <th>funded_amnt</th>\n",
       "      <th>funded_amnt_inv</th>\n",
       "      <th>term</th>\n",
       "      <th>int_rate</th>\n",
       "      <th>installment</th>\n",
       "      <th>grade</th>\n",
       "      <th>emp_length</th>\n",
       "      <th>home_ownership</th>\n",
       "      <th>...</th>\n",
       "      <th>issue_d</th>\n",
       "      <th>loan_status</th>\n",
       "      <th>purpose</th>\n",
       "      <th>zip_code</th>\n",
       "      <th>addr_state</th>\n",
       "      <th>dti</th>\n",
       "      <th>pub_rec_bankruptcies</th>\n",
       "      <th>issue_year</th>\n",
       "      <th>issue_month</th>\n",
       "      <th>loan_amnt_range</th>\n",
       "    </tr>\n",
       "  </thead>\n",
       "  <tbody>\n",
       "    <tr>\n",
       "      <th>0</th>\n",
       "      <td>1077501</td>\n",
       "      <td>5000</td>\n",
       "      <td>5000</td>\n",
       "      <td>4975.0</td>\n",
       "      <td>36</td>\n",
       "      <td>10.65</td>\n",
       "      <td>162.87</td>\n",
       "      <td>B</td>\n",
       "      <td>10</td>\n",
       "      <td>RENT</td>\n",
       "      <td>...</td>\n",
       "      <td>2011-12-01</td>\n",
       "      <td>Fully Paid</td>\n",
       "      <td>credit_card</td>\n",
       "      <td>860xx</td>\n",
       "      <td>AZ</td>\n",
       "      <td>27.65</td>\n",
       "      <td>0.0</td>\n",
       "      <td>2011</td>\n",
       "      <td>12</td>\n",
       "      <td>Lower (4800.0 - 7200.0)</td>\n",
       "    </tr>\n",
       "    <tr>\n",
       "      <th>1</th>\n",
       "      <td>1077430</td>\n",
       "      <td>2500</td>\n",
       "      <td>2500</td>\n",
       "      <td>2500.0</td>\n",
       "      <td>60</td>\n",
       "      <td>15.27</td>\n",
       "      <td>59.83</td>\n",
       "      <td>C</td>\n",
       "      <td>1</td>\n",
       "      <td>RENT</td>\n",
       "      <td>...</td>\n",
       "      <td>2011-12-01</td>\n",
       "      <td>Charged Off</td>\n",
       "      <td>car</td>\n",
       "      <td>309xx</td>\n",
       "      <td>GA</td>\n",
       "      <td>1.00</td>\n",
       "      <td>0.0</td>\n",
       "      <td>2011</td>\n",
       "      <td>12</td>\n",
       "      <td>Lowest (500.0 - 4800.0)</td>\n",
       "    </tr>\n",
       "    <tr>\n",
       "      <th>2</th>\n",
       "      <td>1077175</td>\n",
       "      <td>2400</td>\n",
       "      <td>2400</td>\n",
       "      <td>2400.0</td>\n",
       "      <td>36</td>\n",
       "      <td>15.96</td>\n",
       "      <td>84.33</td>\n",
       "      <td>C</td>\n",
       "      <td>10</td>\n",
       "      <td>RENT</td>\n",
       "      <td>...</td>\n",
       "      <td>2011-12-01</td>\n",
       "      <td>Fully Paid</td>\n",
       "      <td>small_business</td>\n",
       "      <td>606xx</td>\n",
       "      <td>IL</td>\n",
       "      <td>8.72</td>\n",
       "      <td>0.0</td>\n",
       "      <td>2011</td>\n",
       "      <td>12</td>\n",
       "      <td>Lowest (500.0 - 4800.0)</td>\n",
       "    </tr>\n",
       "    <tr>\n",
       "      <th>3</th>\n",
       "      <td>1076863</td>\n",
       "      <td>10000</td>\n",
       "      <td>10000</td>\n",
       "      <td>10000.0</td>\n",
       "      <td>36</td>\n",
       "      <td>13.49</td>\n",
       "      <td>339.31</td>\n",
       "      <td>C</td>\n",
       "      <td>10</td>\n",
       "      <td>RENT</td>\n",
       "      <td>...</td>\n",
       "      <td>2011-12-01</td>\n",
       "      <td>Fully Paid</td>\n",
       "      <td>other</td>\n",
       "      <td>917xx</td>\n",
       "      <td>CA</td>\n",
       "      <td>20.00</td>\n",
       "      <td>0.0</td>\n",
       "      <td>2011</td>\n",
       "      <td>12</td>\n",
       "      <td>Medium (7200.0 - 10000.0)</td>\n",
       "    </tr>\n",
       "    <tr>\n",
       "      <th>5</th>\n",
       "      <td>1075269</td>\n",
       "      <td>5000</td>\n",
       "      <td>5000</td>\n",
       "      <td>5000.0</td>\n",
       "      <td>36</td>\n",
       "      <td>7.90</td>\n",
       "      <td>156.46</td>\n",
       "      <td>A</td>\n",
       "      <td>3</td>\n",
       "      <td>RENT</td>\n",
       "      <td>...</td>\n",
       "      <td>2011-12-01</td>\n",
       "      <td>Fully Paid</td>\n",
       "      <td>wedding</td>\n",
       "      <td>852xx</td>\n",
       "      <td>AZ</td>\n",
       "      <td>11.20</td>\n",
       "      <td>0.0</td>\n",
       "      <td>2011</td>\n",
       "      <td>12</td>\n",
       "      <td>Lower (4800.0 - 7200.0)</td>\n",
       "    </tr>\n",
       "  </tbody>\n",
       "</table>\n",
       "<p>5 rows × 22 columns</p>\n",
       "</div>"
      ],
      "text/plain": [
       "        id  loan_amnt  funded_amnt  funded_amnt_inv  term  int_rate  \\\n",
       "0  1077501       5000         5000           4975.0    36     10.65   \n",
       "1  1077430       2500         2500           2500.0    60     15.27   \n",
       "2  1077175       2400         2400           2400.0    36     15.96   \n",
       "3  1076863      10000        10000          10000.0    36     13.49   \n",
       "5  1075269       5000         5000           5000.0    36      7.90   \n",
       "\n",
       "   installment grade emp_length home_ownership  ...    issue_d  loan_status  \\\n",
       "0       162.87     B         10           RENT  ... 2011-12-01   Fully Paid   \n",
       "1        59.83     C          1           RENT  ... 2011-12-01  Charged Off   \n",
       "2        84.33     C         10           RENT  ... 2011-12-01   Fully Paid   \n",
       "3       339.31     C         10           RENT  ... 2011-12-01   Fully Paid   \n",
       "5       156.46     A          3           RENT  ... 2011-12-01   Fully Paid   \n",
       "\n",
       "          purpose zip_code addr_state    dti pub_rec_bankruptcies  issue_year  \\\n",
       "0     credit_card    860xx         AZ  27.65                  0.0        2011   \n",
       "1             car    309xx         GA   1.00                  0.0        2011   \n",
       "2  small_business    606xx         IL   8.72                  0.0        2011   \n",
       "3           other    917xx         CA  20.00                  0.0        2011   \n",
       "5         wedding    852xx         AZ  11.20                  0.0        2011   \n",
       "\n",
       "   issue_month            loan_amnt_range  \n",
       "0           12    Lower (4800.0 - 7200.0)  \n",
       "1           12    Lowest (500.0 - 4800.0)  \n",
       "2           12    Lowest (500.0 - 4800.0)  \n",
       "3           12  Medium (7200.0 - 10000.0)  \n",
       "5           12    Lower (4800.0 - 7200.0)  \n",
       "\n",
       "[5 rows x 22 columns]"
      ]
     },
     "execution_count": 276,
     "metadata": {},
     "output_type": "execute_result"
    }
   ],
   "source": [
    "loan_df.head()"
   ]
  },
  {
   "cell_type": "code",
   "execution_count": 277,
   "id": "035c947e-9235-4b50-94e5-cbe8e05d818f",
   "metadata": {},
   "outputs": [
    {
     "data": {
      "text/plain": [
       "0            Lower (4800.0 - 7200.0)\n",
       "1            Lowest (500.0 - 4800.0)\n",
       "2            Lowest (500.0 - 4800.0)\n",
       "3          Medium (7200.0 - 10000.0)\n",
       "5            Lower (4800.0 - 7200.0)\n",
       "                    ...             \n",
       "39562        Lowest (500.0 - 4800.0)\n",
       "39573        Lower (4800.0 - 7200.0)\n",
       "39623      Medium (7200.0 - 10000.0)\n",
       "39666    Highest (15000.0 - 29000.0)\n",
       "39680        Lowest (500.0 - 4800.0)\n",
       "Name: loan_amnt_range, Length: 33191, dtype: category\n",
       "Categories (5, object): ['Lowest (500.0 - 4800.0)' < 'Lower (4800.0 - 7200.0)' < 'Medium (7200.0 - 10000.0)' < 'Higher (10000.0 - 15000.0)' < 'Highest (15000.0 - 29000.0)']"
      ]
     },
     "execution_count": 277,
     "metadata": {},
     "output_type": "execute_result"
    }
   ],
   "source": [
    "# Dividing loan_amnt column into bins and creating new column loan_amnt_range\n",
    "loan_df['loan_amnt_range']"
   ]
  },
  {
   "cell_type": "code",
   "execution_count": 278,
   "id": "05ea2bf8-42f6-4d21-92f0-1b2333934d81",
   "metadata": {},
   "outputs": [],
   "source": [
    "# Function for plotting count plot\n",
    "def plot_count_chart(column):\n",
    "    \n",
    "    fig, ax = plot.subplots(figsize=(8,6))\n",
    "    ax.tick_params(axis='x', rotation=90)\n",
    "    sea.countplot(data=loan_df, x=column, hue='loan_status', ax=ax, \n",
    "    order=loan_df[column].value_counts().index, hue_order=['Fully Paid','Charged Off'])\n",
    "            \n",
    "    df = loan_df.groupby([column])['loan_status'].value_counts(normalize=True\n",
    "                                                        ).rename('Charged off %').reset_index().sort_values(column)\n",
    "    df = df.loc[df['loan_status']=='Charged Off'].sort_values(by='Charged off %', ascending=False).drop(columns=['loan_status'])\n",
    "    df2 = loan_df.groupby([column])['loan_status'].count()\n",
    "    df = df.merge(right=df2,on=column).rename(columns={'loan_status':'Record count'})\n",
    "    df['Charged off %'] = round(df['Charged off %']*100,2)\n",
    "    display(HTML(df.to_html(index=False)))\n",
    "     "
   ]
  },
  {
   "cell_type": "code",
   "execution_count": 114,
   "id": "741e893e-5505-4be5-8f27-90b4c744fd18",
   "metadata": {},
   "outputs": [
    {
     "data": {
      "text/html": [
       "<table border=\"1\" class=\"dataframe\">\n",
       "  <thead>\n",
       "    <tr style=\"text-align: right;\">\n",
       "      <th>loan_amnt_range</th>\n",
       "      <th>Charged off %</th>\n",
       "      <th>Record count</th>\n",
       "    </tr>\n",
       "  </thead>\n",
       "  <tbody>\n",
       "    <tr>\n",
       "      <td>Highest (16000.0 - 35000.0)</td>\n",
       "      <td>18.52</td>\n",
       "      <td>7345</td>\n",
       "    </tr>\n",
       "    <tr>\n",
       "      <td>Higher (11500.0 - 16000.0)</td>\n",
       "      <td>14.30</td>\n",
       "      <td>7335</td>\n",
       "    </tr>\n",
       "    <tr>\n",
       "      <td>Lowest (500.0 - 5000.0)</td>\n",
       "      <td>13.50</td>\n",
       "      <td>8855</td>\n",
       "    </tr>\n",
       "    <tr>\n",
       "      <td>Medium (8000.0 - 11500.0)</td>\n",
       "      <td>12.79</td>\n",
       "      <td>5980</td>\n",
       "    </tr>\n",
       "    <tr>\n",
       "      <td>Lower (5000.0 - 8000.0)</td>\n",
       "      <td>12.44</td>\n",
       "      <td>7332</td>\n",
       "    </tr>\n",
       "  </tbody>\n",
       "</table>"
      ],
      "text/plain": [
       "<IPython.core.display.HTML object>"
      ]
     },
     "metadata": {},
     "output_type": "display_data"
    },
    {
     "data": {
      "image/png": "[encoded data removed]",
      "text/plain": [
       "<Figure size 800x600 with 1 Axes>"
      ]
     },
     "metadata": {},
     "output_type": "display_data"
    }
   ],
   "source": [
    "# plotting count chart on newly created column loan_amnt_range\n",
    "plot_count_chart('loan_amnt_range')"
   ]
  },
  {
   "cell_type": "markdown",
   "id": "af18765d-cf9f-43f3-8962-6ae14d6ecb77",
   "metadata": {},
   "source": [
    "#### Observation\n",
    "Higher the loan amount, high probability of loan getting charged off"
   ]
  },
  {
   "cell_type": "code",
   "execution_count": 279,
   "id": "a5e1e1f1-2c60-463a-aa1c-ec855808b2b3",
   "metadata": {},
   "outputs": [],
   "source": [
    "# Dividing int_rate column into bins and creating new column int_rate_range\n",
    "divide_bins('int_rate')"
   ]
  },
  {
   "cell_type": "code",
   "execution_count": 280,
   "id": "6684c659-05f9-40c5-b87b-99c9fbc0844b",
   "metadata": {},
   "outputs": [
    {
     "data": {
      "text/html": [
       "<table border=\"1\" class=\"dataframe\">\n",
       "  <thead>\n",
       "    <tr style=\"text-align: right;\">\n",
       "      <th>int_rate_range</th>\n",
       "      <th>Charged off %</th>\n",
       "      <th>Record count</th>\n",
       "    </tr>\n",
       "  </thead>\n",
       "  <tbody>\n",
       "    <tr>\n",
       "      <td>Highest (14.91 - 22.11)</td>\n",
       "      <td>25.73</td>\n",
       "      <td>6599</td>\n",
       "    </tr>\n",
       "    <tr>\n",
       "      <td>Higher (12.69 - 14.91)</td>\n",
       "      <td>16.54</td>\n",
       "      <td>6595</td>\n",
       "    </tr>\n",
       "    <tr>\n",
       "      <td>Medium (10.75 - 12.69)</td>\n",
       "      <td>14.06</td>\n",
       "      <td>6565</td>\n",
       "    </tr>\n",
       "    <tr>\n",
       "      <td>Lower (7.88 - 10.75)</td>\n",
       "      <td>9.98</td>\n",
       "      <td>6696</td>\n",
       "    </tr>\n",
       "    <tr>\n",
       "      <td>Lowest (5.42 - 7.88)</td>\n",
       "      <td>4.96</td>\n",
       "      <td>6736</td>\n",
       "    </tr>\n",
       "  </tbody>\n",
       "</table>"
      ],
      "text/plain": [
       "<IPython.core.display.HTML object>"
      ]
     },
     "metadata": {},
     "output_type": "display_data"
    },
    {
     "data": {
      "image/png": "[encoded data removed]",
      "text/plain": [
       "<Figure size 800x600 with 1 Axes>"
      ]
     },
     "metadata": {},
     "output_type": "display_data"
    }
   ],
   "source": [
    "# Plotting count chart on new column int_rate_range\n",
    "plot_count_chart('int_rate_range')"
   ]
  },
  {
   "cell_type": "markdown",
   "id": "93a4f5a8-08f2-4fad-9898-ecdcc1f0f0dd",
   "metadata": {},
   "source": [
    "#### Observation\n",
    "From the above plot, we can conclude that if interest rates are higher, the probability of loan getting charged off is also high"
   ]
  },
  {
   "cell_type": "code",
   "execution_count": 281,
   "id": "d0743491-eb89-4ece-bca7-60af014107ff",
   "metadata": {},
   "outputs": [],
   "source": [
    "# Dividing installment column into bins and creating new column installment_range\n",
    "divide_bins('installment')"
   ]
  },
  {
   "cell_type": "code",
   "execution_count": 282,
   "id": "b3c8af73-b7f9-4e89-ba00-7788f52af711",
   "metadata": {},
   "outputs": [
    {
     "data": {
      "text/html": [
       "<table border=\"1\" class=\"dataframe\">\n",
       "  <thead>\n",
       "    <tr style=\"text-align: right;\">\n",
       "      <th>installment_range</th>\n",
       "      <th>Charged off %</th>\n",
       "      <th>Record count</th>\n",
       "    </tr>\n",
       "  </thead>\n",
       "  <tbody>\n",
       "    <tr>\n",
       "      <td>Highest (421.22 - 763.83)</td>\n",
       "      <td>15.49</td>\n",
       "      <td>6637</td>\n",
       "    </tr>\n",
       "    <tr>\n",
       "      <td>Higher (310.1 - 421.22)</td>\n",
       "      <td>14.36</td>\n",
       "      <td>6622</td>\n",
       "    </tr>\n",
       "    <tr>\n",
       "      <td>Lowest (16.08 - 141.17)</td>\n",
       "      <td>14.08</td>\n",
       "      <td>6639</td>\n",
       "    </tr>\n",
       "    <tr>\n",
       "      <td>Medium (215.89 - 310.1)</td>\n",
       "      <td>13.89</td>\n",
       "      <td>6647</td>\n",
       "    </tr>\n",
       "    <tr>\n",
       "      <td>Lower (141.17 - 215.89)</td>\n",
       "      <td>13.20</td>\n",
       "      <td>6646</td>\n",
       "    </tr>\n",
       "  </tbody>\n",
       "</table>"
      ],
      "text/plain": [
       "<IPython.core.display.HTML object>"
      ]
     },
     "metadata": {},
     "output_type": "display_data"
    },
    {
     "data": {
      "image/png": "[encoded data removed]",
      "text/plain": [
       "<Figure size 800x600 with 1 Axes>"
      ]
     },
     "metadata": {},
     "output_type": "display_data"
    }
   ],
   "source": [
    "# Plotting count chart on new column installment_range\n",
    "plot_count_chart('installment_range')"
   ]
  },
  {
   "cell_type": "markdown",
   "id": "ddb5cce1-4510-472e-8938-edfa172c6575",
   "metadata": {},
   "source": [
    "#### Observation\n",
    "Higher the installment amount, greater the probability of loan getting charged off"
   ]
  },
  {
   "cell_type": "code",
   "execution_count": 283,
   "id": "dafa5d15-7542-47cc-bc17-7d729c189c47",
   "metadata": {},
   "outputs": [],
   "source": [
    "# Dividing annual_inc column into bins and creating new column annual_inc_range\n",
    "divide_bins('annual_inc')"
   ]
  },
  {
   "cell_type": "code",
   "execution_count": 284,
   "id": "ba6dbc18-3d42-4471-81d0-361f8958d442",
   "metadata": {},
   "outputs": [
    {
     "data": {
      "text/html": [
       "<table border=\"1\" class=\"dataframe\">\n",
       "  <thead>\n",
       "    <tr style=\"text-align: right;\">\n",
       "      <th>annual_inc_range</th>\n",
       "      <th>Charged off %</th>\n",
       "      <th>Record count</th>\n",
       "    </tr>\n",
       "  </thead>\n",
       "  <tbody>\n",
       "    <tr>\n",
       "      <td>Lowest (4000.0 - 36000.0)</td>\n",
       "      <td>17.95</td>\n",
       "      <td>6690</td>\n",
       "    </tr>\n",
       "    <tr>\n",
       "      <td>Lower (36000.0 - 49800.0)</td>\n",
       "      <td>15.40</td>\n",
       "      <td>6593</td>\n",
       "    </tr>\n",
       "    <tr>\n",
       "      <td>Medium (49800.0 - 62000.0)</td>\n",
       "      <td>14.94</td>\n",
       "      <td>6765</td>\n",
       "    </tr>\n",
       "    <tr>\n",
       "      <td>Higher (62000.0 - 81000.0)</td>\n",
       "      <td>12.70</td>\n",
       "      <td>6522</td>\n",
       "    </tr>\n",
       "    <tr>\n",
       "      <td>Highest (81000.0 - 140000.0)</td>\n",
       "      <td>9.95</td>\n",
       "      <td>6621</td>\n",
       "    </tr>\n",
       "  </tbody>\n",
       "</table>"
      ],
      "text/plain": [
       "<IPython.core.display.HTML object>"
      ]
     },
     "metadata": {},
     "output_type": "display_data"
    },
    {
     "data": {
      "image/png": "[encoded data removed]",
      "text/plain": [
       "<Figure size 800x600 with 1 Axes>"
      ]
     },
     "metadata": {},
     "output_type": "display_data"
    }
   ],
   "source": [
    "# Plotting count chart on new column annual_inc_range \n",
    "plot_count_chart('annual_inc_range')"
   ]
  },
  {
   "cell_type": "markdown",
   "id": "f01a87f8-8f9f-443d-b60c-2f8fbe8142f2",
   "metadata": {},
   "source": [
    "#### Observation\n",
    "Higher the income, lower the chances of loan getting charged off"
   ]
  },
  {
   "cell_type": "code",
   "execution_count": 285,
   "id": "1c47f7dc-18fa-4dd1-9edb-2cae06664d1a",
   "metadata": {},
   "outputs": [],
   "source": [
    "# Dividing dti column into bins and creating new column dti_range\n",
    "divide_bins('dti')"
   ]
  },
  {
   "cell_type": "code",
   "execution_count": 286,
   "id": "a9e915c3-1088-4cae-b08d-4f793c28ab36",
   "metadata": {},
   "outputs": [
    {
     "data": {
      "text/html": [
       "<table border=\"1\" class=\"dataframe\">\n",
       "  <thead>\n",
       "    <tr style=\"text-align: right;\">\n",
       "      <th>dti_range</th>\n",
       "      <th>Charged off %</th>\n",
       "      <th>Record count</th>\n",
       "    </tr>\n",
       "  </thead>\n",
       "  <tbody>\n",
       "    <tr>\n",
       "      <td>Highest (19.87 - 29.99)</td>\n",
       "      <td>16.24</td>\n",
       "      <td>6625</td>\n",
       "    </tr>\n",
       "    <tr>\n",
       "      <td>Higher (15.52 - 19.87)</td>\n",
       "      <td>15.47</td>\n",
       "      <td>6643</td>\n",
       "    </tr>\n",
       "    <tr>\n",
       "      <td>Medium (11.61 - 15.52)</td>\n",
       "      <td>14.61</td>\n",
       "      <td>6639</td>\n",
       "    </tr>\n",
       "    <tr>\n",
       "      <td>Lower (7.15 - 11.61)</td>\n",
       "      <td>12.53</td>\n",
       "      <td>6642</td>\n",
       "    </tr>\n",
       "    <tr>\n",
       "      <td>Lowest (0.0 - 7.15)</td>\n",
       "      <td>12.17</td>\n",
       "      <td>6642</td>\n",
       "    </tr>\n",
       "  </tbody>\n",
       "</table>"
      ],
      "text/plain": [
       "<IPython.core.display.HTML object>"
      ]
     },
     "metadata": {},
     "output_type": "display_data"
    },
    {
     "data": {
      "image/png": "[encoded data removed]",
      "text/plain": [
       "<Figure size 800x600 with 1 Axes>"
      ]
     },
     "metadata": {},
     "output_type": "display_data"
    }
   ],
   "source": [
    "# Plotting count chart on new column dti_range\n",
    "plot_count_chart('dti_range')"
   ]
  },
  {
   "cell_type": "markdown",
   "id": "2abf61a5-2897-4d38-b8be-01846177459b",
   "metadata": {},
   "source": [
    "#### Observation\n",
    "Higher the Debt To Income, greater the chances of loan getting charged off"
   ]
  },
  {
   "cell_type": "code",
   "execution_count": 287,
   "id": "28e9ace0-22dc-42b6-b1a4-5b3ea78a1038",
   "metadata": {},
   "outputs": [
    {
     "data": {
      "text/plain": [
       "Index(['id', 'loan_amnt', 'funded_amnt', 'funded_amnt_inv', 'term', 'int_rate',\n",
       "       'installment', 'grade', 'emp_length', 'home_ownership', 'annual_inc',\n",
       "       'verification_status', 'issue_d', 'loan_status', 'purpose', 'zip_code',\n",
       "       'addr_state', 'dti', 'pub_rec_bankruptcies', 'issue_year',\n",
       "       'issue_month', 'loan_amnt_range', 'int_rate_range', 'installment_range',\n",
       "       'annual_inc_range', 'dti_range'],\n",
       "      dtype='object')"
      ]
     },
     "execution_count": 287,
     "metadata": {},
     "output_type": "execute_result"
    }
   ],
   "source": [
    "loan_df.columns"
   ]
  },
  {
   "cell_type": "code",
   "execution_count": 288,
   "id": "30ab57b1-3dc9-4d31-ac18-de71314b627c",
   "metadata": {},
   "outputs": [
    {
     "data": {
      "text/html": [
       "<table border=\"1\" class=\"dataframe\">\n",
       "  <thead>\n",
       "    <tr style=\"text-align: right;\">\n",
       "      <th>term</th>\n",
       "      <th>Charged off %</th>\n",
       "      <th>Record count</th>\n",
       "    </tr>\n",
       "  </thead>\n",
       "  <tbody>\n",
       "    <tr>\n",
       "      <td>60</td>\n",
       "      <td>25.12</td>\n",
       "      <td>7957</td>\n",
       "    </tr>\n",
       "    <tr>\n",
       "      <td>36</td>\n",
       "      <td>10.76</td>\n",
       "      <td>25234</td>\n",
       "    </tr>\n",
       "  </tbody>\n",
       "</table>"
      ],
      "text/plain": [
       "<IPython.core.display.HTML object>"
      ]
     },
     "metadata": {},
     "output_type": "display_data"
    },
    {
     "data": {
      "image/png": "[encoded data removed]",
      "text/plain": [
       "<Figure size 800x600 with 1 Axes>"
      ]
     },
     "metadata": {},
     "output_type": "display_data"
    }
   ],
   "source": [
    "# Plotting count chart on column term\n",
    "plot_count_chart('term')\n"
   ]
  },
  {
   "cell_type": "markdown",
   "id": "a08b8475-c9ed-48f3-a82f-c31cac2c9961",
   "metadata": {},
   "source": [
    "#### Observation\n",
    "Loans with 36 months term has lower chances of getting charged off. Therefore, lower the term, lower will be the probability of loan getting charged off"
   ]
  },
  {
   "cell_type": "code",
   "execution_count": 289,
   "id": "78add554-96dd-48cb-af0b-73529d891f71",
   "metadata": {},
   "outputs": [
    {
     "data": {
      "text/html": [
       "<table border=\"1\" class=\"dataframe\">\n",
       "  <thead>\n",
       "    <tr style=\"text-align: right;\">\n",
       "      <th>grade</th>\n",
       "      <th>Charged off %</th>\n",
       "      <th>Record count</th>\n",
       "    </tr>\n",
       "  </thead>\n",
       "  <tbody>\n",
       "    <tr>\n",
       "      <td>G</td>\n",
       "      <td>34.59</td>\n",
       "      <td>159</td>\n",
       "    </tr>\n",
       "    <tr>\n",
       "      <td>F</td>\n",
       "      <td>31.43</td>\n",
       "      <td>700</td>\n",
       "    </tr>\n",
       "    <tr>\n",
       "      <td>E</td>\n",
       "      <td>26.84</td>\n",
       "      <td>2075</td>\n",
       "    </tr>\n",
       "    <tr>\n",
       "      <td>D</td>\n",
       "      <td>22.04</td>\n",
       "      <td>4270</td>\n",
       "    </tr>\n",
       "    <tr>\n",
       "      <td>C</td>\n",
       "      <td>17.11</td>\n",
       "      <td>6879</td>\n",
       "    </tr>\n",
       "    <tr>\n",
       "      <td>B</td>\n",
       "      <td>12.15</td>\n",
       "      <td>10082</td>\n",
       "    </tr>\n",
       "    <tr>\n",
       "      <td>A</td>\n",
       "      <td>5.97</td>\n",
       "      <td>9026</td>\n",
       "    </tr>\n",
       "  </tbody>\n",
       "</table>"
      ],
      "text/plain": [
       "<IPython.core.display.HTML object>"
      ]
     },
     "metadata": {},
     "output_type": "display_data"
    },
    {
     "data": {
      "image/png": "[encoded data removed]",
      "text/plain": [
       "<Figure size 800x600 with 1 Axes>"
      ]
     },
     "metadata": {},
     "output_type": "display_data"
    }
   ],
   "source": [
    "# Plotting count chart on column grade\n",
    "plot_count_chart('grade')"
   ]
  },
  {
   "cell_type": "markdown",
   "id": "8369d631-5f96-42b7-982f-a1c4ac0153b6",
   "metadata": {},
   "source": [
    "#### Observation \n",
    "The loans with grades G,F,E have higher chances of getting charged off"
   ]
  },
  {
   "cell_type": "code",
   "execution_count": 290,
   "id": "d86d890f-3e1f-466f-9d5b-4906064f62c5",
   "metadata": {},
   "outputs": [
    {
     "data": {
      "text/html": [
       "<table border=\"1\" class=\"dataframe\">\n",
       "  <thead>\n",
       "    <tr style=\"text-align: right;\">\n",
       "      <th>emp_length</th>\n",
       "      <th>Charged off %</th>\n",
       "      <th>Record count</th>\n",
       "    </tr>\n",
       "  </thead>\n",
       "  <tbody>\n",
       "    <tr>\n",
       "      <td>10</td>\n",
       "      <td>15.43</td>\n",
       "      <td>7149</td>\n",
       "    </tr>\n",
       "    <tr>\n",
       "      <td>7</td>\n",
       "      <td>15.21</td>\n",
       "      <td>1532</td>\n",
       "    </tr>\n",
       "    <tr>\n",
       "      <td>5</td>\n",
       "      <td>14.25</td>\n",
       "      <td>2864</td>\n",
       "    </tr>\n",
       "    <tr>\n",
       "      <td>8</td>\n",
       "      <td>14.24</td>\n",
       "      <td>1236</td>\n",
       "    </tr>\n",
       "    <tr>\n",
       "      <td>1</td>\n",
       "      <td>14.18</td>\n",
       "      <td>6883</td>\n",
       "    </tr>\n",
       "    <tr>\n",
       "      <td>6</td>\n",
       "      <td>14.04</td>\n",
       "      <td>1937</td>\n",
       "    </tr>\n",
       "    <tr>\n",
       "      <td>3</td>\n",
       "      <td>13.61</td>\n",
       "      <td>3615</td>\n",
       "    </tr>\n",
       "    <tr>\n",
       "      <td>4</td>\n",
       "      <td>13.38</td>\n",
       "      <td>3012</td>\n",
       "    </tr>\n",
       "    <tr>\n",
       "      <td>2</td>\n",
       "      <td>13.14</td>\n",
       "      <td>3882</td>\n",
       "    </tr>\n",
       "    <tr>\n",
       "      <td>9</td>\n",
       "      <td>13.04</td>\n",
       "      <td>1081</td>\n",
       "    </tr>\n",
       "  </tbody>\n",
       "</table>"
      ],
      "text/plain": [
       "<IPython.core.display.HTML object>"
      ]
     },
     "metadata": {},
     "output_type": "display_data"
    },
    {
     "data": {
      "image/png": "[encoded data removed]",
      "text/plain": [
       "<Figure size 800x600 with 1 Axes>"
      ]
     },
     "metadata": {},
     "output_type": "display_data"
    }
   ],
   "source": [
    "# Plotting count chart on column emp_length\n",
    "plot_count_chart('emp_length')"
   ]
  },
  {
   "cell_type": "markdown",
   "id": "a595237d-8241-42f5-ba3f-d9f54e6604a0",
   "metadata": {},
   "source": [
    "#### Observation\n",
    "Based on employee years of experience, we couldn't derive any pattern out of the chart"
   ]
  },
  {
   "cell_type": "code",
   "execution_count": 291,
   "id": "e01bb283-7731-4b13-9ac5-2aa7bc09e329",
   "metadata": {},
   "outputs": [
    {
     "data": {
      "text/html": [
       "<table border=\"1\" class=\"dataframe\">\n",
       "  <thead>\n",
       "    <tr style=\"text-align: right;\">\n",
       "      <th>verification_status</th>\n",
       "      <th>Charged off %</th>\n",
       "      <th>Record count</th>\n",
       "    </tr>\n",
       "  </thead>\n",
       "  <tbody>\n",
       "    <tr>\n",
       "      <td>Verified</td>\n",
       "      <td>16.63</td>\n",
       "      <td>9414</td>\n",
       "    </tr>\n",
       "    <tr>\n",
       "      <td>Source Verified</td>\n",
       "      <td>14.65</td>\n",
       "      <td>8767</td>\n",
       "    </tr>\n",
       "    <tr>\n",
       "      <td>Not Verified</td>\n",
       "      <td>12.42</td>\n",
       "      <td>15010</td>\n",
       "    </tr>\n",
       "  </tbody>\n",
       "</table>"
      ],
      "text/plain": [
       "<IPython.core.display.HTML object>"
      ]
     },
     "metadata": {},
     "output_type": "display_data"
    },
    {
     "data": {
      "image/png": "[encoded data removed]",
      "text/plain": [
       "<Figure size 800x600 with 1 Axes>"
      ]
     },
     "metadata": {},
     "output_type": "display_data"
    }
   ],
   "source": [
    "# Plotting count chart on column verification_status\n",
    "plot_count_chart('verification_status')"
   ]
  },
  {
   "cell_type": "markdown",
   "id": "68f2c330-6228-4a1a-bc86-3e8c7a839a9e",
   "metadata": {},
   "source": [
    "#### Observation\n",
    "From the above chart, we can say that there are some discrepancies in verification process as the verified applicants have higher chances of their loan getting charged off"
   ]
  },
  {
   "cell_type": "code",
   "execution_count": 292,
   "id": "7c49fa84-14fa-4715-bbf5-69756ae43131",
   "metadata": {},
   "outputs": [
    {
     "data": {
      "text/html": [
       "<table border=\"1\" class=\"dataframe\">\n",
       "  <thead>\n",
       "    <tr style=\"text-align: right;\">\n",
       "      <th>purpose</th>\n",
       "      <th>Charged off %</th>\n",
       "      <th>Record count</th>\n",
       "    </tr>\n",
       "  </thead>\n",
       "  <tbody>\n",
       "    <tr>\n",
       "      <td>small_business</td>\n",
       "      <td>26.73</td>\n",
       "      <td>1369</td>\n",
       "    </tr>\n",
       "    <tr>\n",
       "      <td>renewable_energy</td>\n",
       "      <td>19.28</td>\n",
       "      <td>83</td>\n",
       "    </tr>\n",
       "    <tr>\n",
       "      <td>house</td>\n",
       "      <td>16.44</td>\n",
       "      <td>298</td>\n",
       "    </tr>\n",
       "    <tr>\n",
       "      <td>educational</td>\n",
       "      <td>16.37</td>\n",
       "      <td>281</td>\n",
       "    </tr>\n",
       "    <tr>\n",
       "      <td>other</td>\n",
       "      <td>15.83</td>\n",
       "      <td>3354</td>\n",
       "    </tr>\n",
       "    <tr>\n",
       "      <td>medical</td>\n",
       "      <td>15.70</td>\n",
       "      <td>605</td>\n",
       "    </tr>\n",
       "    <tr>\n",
       "      <td>moving</td>\n",
       "      <td>15.43</td>\n",
       "      <td>512</td>\n",
       "    </tr>\n",
       "    <tr>\n",
       "      <td>debt_consolidation</td>\n",
       "      <td>14.95</td>\n",
       "      <td>15582</td>\n",
       "    </tr>\n",
       "    <tr>\n",
       "      <td>vacation</td>\n",
       "      <td>14.85</td>\n",
       "      <td>330</td>\n",
       "    </tr>\n",
       "    <tr>\n",
       "      <td>home_improvement</td>\n",
       "      <td>12.03</td>\n",
       "      <td>2303</td>\n",
       "    </tr>\n",
       "    <tr>\n",
       "      <td>car</td>\n",
       "      <td>10.92</td>\n",
       "      <td>1374</td>\n",
       "    </tr>\n",
       "    <tr>\n",
       "      <td>credit_card</td>\n",
       "      <td>10.36</td>\n",
       "      <td>4344</td>\n",
       "    </tr>\n",
       "    <tr>\n",
       "      <td>major_purchase</td>\n",
       "      <td>10.19</td>\n",
       "      <td>1914</td>\n",
       "    </tr>\n",
       "    <tr>\n",
       "      <td>wedding</td>\n",
       "      <td>9.74</td>\n",
       "      <td>842</td>\n",
       "    </tr>\n",
       "  </tbody>\n",
       "</table>"
      ],
      "text/plain": [
       "<IPython.core.display.HTML object>"
      ]
     },
     "metadata": {},
     "output_type": "display_data"
    },
    {
     "data": {
      "image/png": "[encoded data removed]",
      "text/plain": [
       "<Figure size 800x600 with 1 Axes>"
      ]
     },
     "metadata": {},
     "output_type": "display_data"
    }
   ],
   "source": [
    "# Plotting count chart on column purpose\n",
    "plot_count_chart('purpose')"
   ]
  },
  {
   "cell_type": "markdown",
   "id": "a9c539e3-3b41-4e13-b336-5ea0da012ec4",
   "metadata": {},
   "source": [
    "#### Observation\n",
    "We considering above 20 charged off percent as defaulting. From the above chart, small businesses have the risk of their loans getting charged off"
   ]
  },
  {
   "cell_type": "code",
   "execution_count": 293,
   "id": "50e6e7a2-ef64-4294-b294-7405257b2663",
   "metadata": {},
   "outputs": [
    {
     "data": {
      "text/html": [
       "<table border=\"1\" class=\"dataframe\">\n",
       "  <thead>\n",
       "    <tr style=\"text-align: right;\">\n",
       "      <th>addr_state</th>\n",
       "      <th>Charged off %</th>\n",
       "      <th>Record count</th>\n",
       "    </tr>\n",
       "  </thead>\n",
       "  <tbody>\n",
       "    <tr>\n",
       "      <td>TN</td>\n",
       "      <td>22.22</td>\n",
       "      <td>9</td>\n",
       "    </tr>\n",
       "    <tr>\n",
       "      <td>NV</td>\n",
       "      <td>20.96</td>\n",
       "      <td>415</td>\n",
       "    </tr>\n",
       "    <tr>\n",
       "      <td>AK</td>\n",
       "      <td>19.05</td>\n",
       "      <td>63</td>\n",
       "    </tr>\n",
       "    <tr>\n",
       "      <td>HI</td>\n",
       "      <td>19.05</td>\n",
       "      <td>147</td>\n",
       "    </tr>\n",
       "    <tr>\n",
       "      <td>SD</td>\n",
       "      <td>18.64</td>\n",
       "      <td>59</td>\n",
       "    </tr>\n",
       "    <tr>\n",
       "      <td>NM</td>\n",
       "      <td>17.39</td>\n",
       "      <td>161</td>\n",
       "    </tr>\n",
       "    <tr>\n",
       "      <td>FL</td>\n",
       "      <td>17.22</td>\n",
       "      <td>2404</td>\n",
       "    </tr>\n",
       "    <tr>\n",
       "      <td>MO</td>\n",
       "      <td>16.75</td>\n",
       "      <td>591</td>\n",
       "    </tr>\n",
       "    <tr>\n",
       "      <td>OR</td>\n",
       "      <td>16.11</td>\n",
       "      <td>391</td>\n",
       "    </tr>\n",
       "    <tr>\n",
       "      <td>GA</td>\n",
       "      <td>15.79</td>\n",
       "      <td>1165</td>\n",
       "    </tr>\n",
       "    <tr>\n",
       "      <td>NJ</td>\n",
       "      <td>15.74</td>\n",
       "      <td>1531</td>\n",
       "    </tr>\n",
       "    <tr>\n",
       "      <td>CA</td>\n",
       "      <td>15.63</td>\n",
       "      <td>5971</td>\n",
       "    </tr>\n",
       "    <tr>\n",
       "      <td>MD</td>\n",
       "      <td>15.35</td>\n",
       "      <td>873</td>\n",
       "    </tr>\n",
       "    <tr>\n",
       "      <td>NC</td>\n",
       "      <td>15.34</td>\n",
       "      <td>626</td>\n",
       "    </tr>\n",
       "    <tr>\n",
       "      <td>WA</td>\n",
       "      <td>15.07</td>\n",
       "      <td>690</td>\n",
       "    </tr>\n",
       "    <tr>\n",
       "      <td>KY</td>\n",
       "      <td>14.74</td>\n",
       "      <td>285</td>\n",
       "    </tr>\n",
       "    <tr>\n",
       "      <td>NH</td>\n",
       "      <td>14.71</td>\n",
       "      <td>136</td>\n",
       "    </tr>\n",
       "    <tr>\n",
       "      <td>OK</td>\n",
       "      <td>14.62</td>\n",
       "      <td>260</td>\n",
       "    </tr>\n",
       "    <tr>\n",
       "      <td>SC</td>\n",
       "      <td>14.36</td>\n",
       "      <td>404</td>\n",
       "    </tr>\n",
       "    <tr>\n",
       "      <td>WI</td>\n",
       "      <td>14.29</td>\n",
       "      <td>378</td>\n",
       "    </tr>\n",
       "    <tr>\n",
       "      <td>AZ</td>\n",
       "      <td>14.21</td>\n",
       "      <td>725</td>\n",
       "    </tr>\n",
       "    <tr>\n",
       "      <td>MI</td>\n",
       "      <td>13.95</td>\n",
       "      <td>602</td>\n",
       "    </tr>\n",
       "    <tr>\n",
       "      <td>MN</td>\n",
       "      <td>13.75</td>\n",
       "      <td>538</td>\n",
       "    </tr>\n",
       "    <tr>\n",
       "      <td>IL</td>\n",
       "      <td>13.48</td>\n",
       "      <td>1283</td>\n",
       "    </tr>\n",
       "    <tr>\n",
       "      <td>UT</td>\n",
       "      <td>13.43</td>\n",
       "      <td>216</td>\n",
       "    </tr>\n",
       "    <tr>\n",
       "      <td>RI</td>\n",
       "      <td>13.41</td>\n",
       "      <td>179</td>\n",
       "    </tr>\n",
       "    <tr>\n",
       "      <td>WV</td>\n",
       "      <td>13.33</td>\n",
       "      <td>150</td>\n",
       "    </tr>\n",
       "    <tr>\n",
       "      <td>LA</td>\n",
       "      <td>13.19</td>\n",
       "      <td>364</td>\n",
       "    </tr>\n",
       "    <tr>\n",
       "      <td>CT</td>\n",
       "      <td>13.16</td>\n",
       "      <td>608</td>\n",
       "    </tr>\n",
       "    <tr>\n",
       "      <td>NY</td>\n",
       "      <td>13.02</td>\n",
       "      <td>3134</td>\n",
       "    </tr>\n",
       "    <tr>\n",
       "      <td>VA</td>\n",
       "      <td>12.65</td>\n",
       "      <td>1178</td>\n",
       "    </tr>\n",
       "    <tr>\n",
       "      <td>OH</td>\n",
       "      <td>12.58</td>\n",
       "      <td>1041</td>\n",
       "    </tr>\n",
       "    <tr>\n",
       "      <td>AL</td>\n",
       "      <td>12.00</td>\n",
       "      <td>375</td>\n",
       "    </tr>\n",
       "    <tr>\n",
       "      <td>VT</td>\n",
       "      <td>12.00</td>\n",
       "      <td>50</td>\n",
       "    </tr>\n",
       "    <tr>\n",
       "      <td>AR</td>\n",
       "      <td>11.96</td>\n",
       "      <td>209</td>\n",
       "    </tr>\n",
       "    <tr>\n",
       "      <td>CO</td>\n",
       "      <td>11.77</td>\n",
       "      <td>654</td>\n",
       "    </tr>\n",
       "    <tr>\n",
       "      <td>MA</td>\n",
       "      <td>11.77</td>\n",
       "      <td>1096</td>\n",
       "    </tr>\n",
       "    <tr>\n",
       "      <td>PA</td>\n",
       "      <td>11.48</td>\n",
       "      <td>1324</td>\n",
       "    </tr>\n",
       "    <tr>\n",
       "      <td>TX</td>\n",
       "      <td>11.31</td>\n",
       "      <td>2246</td>\n",
       "    </tr>\n",
       "    <tr>\n",
       "      <td>MT</td>\n",
       "      <td>10.96</td>\n",
       "      <td>73</td>\n",
       "    </tr>\n",
       "    <tr>\n",
       "      <td>DE</td>\n",
       "      <td>10.89</td>\n",
       "      <td>101</td>\n",
       "    </tr>\n",
       "    <tr>\n",
       "      <td>MS</td>\n",
       "      <td>10.53</td>\n",
       "      <td>19</td>\n",
       "    </tr>\n",
       "    <tr>\n",
       "      <td>KS</td>\n",
       "      <td>10.00</td>\n",
       "      <td>220</td>\n",
       "    </tr>\n",
       "    <tr>\n",
       "      <td>DC</td>\n",
       "      <td>5.78</td>\n",
       "      <td>173</td>\n",
       "    </tr>\n",
       "    <tr>\n",
       "      <td>WY</td>\n",
       "      <td>2.94</td>\n",
       "      <td>68</td>\n",
       "    </tr>\n",
       "  </tbody>\n",
       "</table>"
      ],
      "text/plain": [
       "<IPython.core.display.HTML object>"
      ]
     },
     "metadata": {},
     "output_type": "display_data"
    },
    {
     "data": {
      "image/png": "[encoded data removed]",
      "text/plain": [
       "<Figure size 800x600 with 1 Axes>"
      ]
     },
     "metadata": {},
     "output_type": "display_data"
    }
   ],
   "source": [
    "# Plotting count chart on column addr_state\n",
    "plot_count_chart('addr_state')"
   ]
  },
  {
   "cell_type": "markdown",
   "id": "b63be668-be32-46d5-8b3c-a1263dad38c7",
   "metadata": {},
   "source": [
    "#### Observation\n",
    "We considering above 20 charged off percent as defaulting. From the above chart, NV, TN, AK are riskier states"
   ]
  },
  {
   "cell_type": "code",
   "execution_count": 294,
   "id": "3e10a6dd-8c49-4472-8c47-15eabece8f9d",
   "metadata": {},
   "outputs": [
    {
     "data": {
      "text/html": [
       "<table border=\"1\" class=\"dataframe\">\n",
       "  <thead>\n",
       "    <tr style=\"text-align: right;\">\n",
       "      <th>pub_rec_bankruptcies</th>\n",
       "      <th>Charged off %</th>\n",
       "      <th>Record count</th>\n",
       "    </tr>\n",
       "  </thead>\n",
       "  <tbody>\n",
       "    <tr>\n",
       "      <td>2.0</td>\n",
       "      <td>40.00</td>\n",
       "      <td>5</td>\n",
       "    </tr>\n",
       "    <tr>\n",
       "      <td>1.0</td>\n",
       "      <td>21.31</td>\n",
       "      <td>1445</td>\n",
       "    </tr>\n",
       "    <tr>\n",
       "      <td>0.0</td>\n",
       "      <td>13.87</td>\n",
       "      <td>31741</td>\n",
       "    </tr>\n",
       "  </tbody>\n",
       "</table>"
      ],
      "text/plain": [
       "<IPython.core.display.HTML object>"
      ]
     },
     "metadata": {},
     "output_type": "display_data"
    },
    {
     "data": {
      "image/png": "[encoded data removed]",
      "text/plain": [
       "<Figure size 800x600 with 1 Axes>"
      ]
     },
     "metadata": {},
     "output_type": "display_data"
    }
   ],
   "source": [
    "# Plotting count chart on column pub_rec_bankruptcies\n",
    "plot_count_chart('pub_rec_bankruptcies')"
   ]
  },
  {
   "cell_type": "markdown",
   "id": "6eeb5d6e-1bb5-4acc-835f-10fc334cf7bf",
   "metadata": {},
   "source": [
    "#### Observation\n",
    "If an applicant has a bankruptcy, then there are higher chances of defaulting the loan"
   ]
  },
  {
   "cell_type": "code",
   "execution_count": 296,
   "id": "15882c1f-d969-4793-a4d4-cc00ada5299e",
   "metadata": {},
   "outputs": [
    {
     "data": {
      "text/html": [
       "<table border=\"1\" class=\"dataframe\">\n",
       "  <thead>\n",
       "    <tr style=\"text-align: right;\">\n",
       "      <th>issue_month</th>\n",
       "      <th>Charged off %</th>\n",
       "      <th>Record count</th>\n",
       "    </tr>\n",
       "  </thead>\n",
       "  <tbody>\n",
       "    <tr>\n",
       "      <td>9</td>\n",
       "      <td>15.86</td>\n",
       "      <td>3008</td>\n",
       "    </tr>\n",
       "    <tr>\n",
       "      <td>12</td>\n",
       "      <td>15.75</td>\n",
       "      <td>3601</td>\n",
       "    </tr>\n",
       "    <tr>\n",
       "      <td>5</td>\n",
       "      <td>15.49</td>\n",
       "      <td>2589</td>\n",
       "    </tr>\n",
       "    <tr>\n",
       "      <td>10</td>\n",
       "      <td>14.64</td>\n",
       "      <td>3155</td>\n",
       "    </tr>\n",
       "    <tr>\n",
       "      <td>6</td>\n",
       "      <td>14.64</td>\n",
       "      <td>2800</td>\n",
       "    </tr>\n",
       "    <tr>\n",
       "      <td>11</td>\n",
       "      <td>14.24</td>\n",
       "      <td>3470</td>\n",
       "    </tr>\n",
       "    <tr>\n",
       "      <td>7</td>\n",
       "      <td>14.07</td>\n",
       "      <td>2949</td>\n",
       "    </tr>\n",
       "    <tr>\n",
       "      <td>8</td>\n",
       "      <td>13.65</td>\n",
       "      <td>2967</td>\n",
       "    </tr>\n",
       "    <tr>\n",
       "      <td>1</td>\n",
       "      <td>13.10</td>\n",
       "      <td>1984</td>\n",
       "    </tr>\n",
       "    <tr>\n",
       "      <td>4</td>\n",
       "      <td>12.72</td>\n",
       "      <td>2493</td>\n",
       "    </tr>\n",
       "    <tr>\n",
       "      <td>3</td>\n",
       "      <td>12.46</td>\n",
       "      <td>2263</td>\n",
       "    </tr>\n",
       "    <tr>\n",
       "      <td>2</td>\n",
       "      <td>11.72</td>\n",
       "      <td>1912</td>\n",
       "    </tr>\n",
       "  </tbody>\n",
       "</table>"
      ],
      "text/plain": [
       "<IPython.core.display.HTML object>"
      ]
     },
     "metadata": {},
     "output_type": "display_data"
    },
    {
     "data": {
      "image/png": "[encoded data removed]",
      "text/plain": [
       "<Figure size 800x600 with 1 Axes>"
      ]
     },
     "metadata": {},
     "output_type": "display_data"
    }
   ],
   "source": [
    "# Plotting count chart on column issue_month\n",
    "plot_count_chart('issue_month')"
   ]
  },
  {
   "cell_type": "markdown",
   "id": "58a04085-296b-4816-ab23-84e934028f23",
   "metadata": {},
   "source": [
    "#### Observation\n",
    "Loans issued in months Dec, May, Sept, Oct have high chances of getting charged off "
   ]
  },
  {
   "cell_type": "markdown",
   "id": "1fb4d872-75c5-4064-9460-b4f65b6dc8c6",
   "metadata": {},
   "source": [
    "#### Observation\n",
    "Above plot shows that for higher installments for any income group have more number of defaults."
   ]
  },
  {
   "cell_type": "markdown",
   "id": "efa4d6ef-1fab-46e5-bebc-7b54f8bea9f6",
   "metadata": {},
   "source": [
    "# 7. Bivariate Analysis\n",
    "\n",
    "Now that we have analyzed each of the variables and its impact on the loan status, let us take group of variables together and and analyze their combined effect on the loan status."
   ]
  },
  {
   "cell_type": "code",
   "execution_count": 303,
   "id": "eb0e2824-ffeb-4d85-88e0-f0cd1b209956",
   "metadata": {},
   "outputs": [],
   "source": [
    "# Changing the loan_status to numerical as pivot table cannot be drawn on non-numerical column\n",
    "# changing the loan_status to a numeric variable, assign 1 for defaulted loans and 0 for paid off ones\n",
    "loan_df['loan_status_num'] = loan_df['loan_status'].apply(lambda x: 1 if x=='Charged Off' else 0)"
   ]
  },
  {
   "cell_type": "code",
   "execution_count": 339,
   "id": "93401437-11bd-401f-b57b-8a21e3e4b331",
   "metadata": {},
   "outputs": [],
   "source": [
    "# Function for generating heat map upon input\n",
    "\n",
    "def Bivariate_Analysis (*, x, y, figsize=(8,6)):\n",
    "    \"\"\"\n",
    "        Parameters:\n",
    "            x, y : columns of data in the corresponding axis, both categorical\n",
    "            figsize : a default have is given, but can be overridden\n",
    "        Returns:\n",
    "            None, does a heatmap plot\n",
    "    \"\"\"\n",
    "    fig, ax = plot.subplots(figsize=figsize)\n",
    "    pt = pd.pivot_table(data=loan_df, values='loan_status_num', index=y, columns=x)\n",
    "    sea.heatmap(pt, ax=ax, cmap='BuPu')\n",
    "    plot.show()"
   ]
  },
  {
   "cell_type": "code",
   "execution_count": 340,
   "id": "4b48a216-7eca-4281-9b6a-600645fb39a7",
   "metadata": {},
   "outputs": [
    {
     "data": {
      "image/png": "[encoded data removed]",
      "text/plain": [
       "<Figure size 2200x800 with 2 Axes>"
      ]
     },
     "metadata": {},
     "output_type": "display_data"
    }
   ],
   "source": [
    "# Heat Map on addr_state and purpose columns\n",
    "Bivariate_Analysis(x='addr_state', y='purpose', figsize=(22,8))"
   ]
  },
  {
   "cell_type": "markdown",
   "id": "6ba79203-0cde-4617-abae-4efc43b3e96c",
   "metadata": {},
   "source": [
    "#### Observation\n",
    "As per the above plot, the darker the intersection of addr_state has with the purpose of the loan, the risker the loan application is. Some of the examples are below:\n",
    "\r",
    "1. vacation loans in AK, HI, OR\n",
    "\n",
    "2. education loans in AR, KS, UT\n",
    "\n",
    "3. small business loans in DE, NM, WV\n",
    "\n",
    "4. Renewable Energy Loans in UT, OR"
   ]
  },
  {
   "cell_type": "code",
   "execution_count": 341,
   "id": "0177fe36-6459-4256-be3e-306982e70513",
   "metadata": {},
   "outputs": [
    {
     "data": {
      "image/png": "[encoded data removed]",
      "text/plain": [
       "<Figure size 1200x400 with 2 Axes>"
      ]
     },
     "metadata": {},
     "output_type": "display_data"
    }
   ],
   "source": [
    "# Plotting the income groups against purpose\n",
    "Bivariate_Analysis(x='purpose', y='annual_inc_range', figsize=(12,4))"
   ]
  },
  {
   "cell_type": "markdown",
   "id": "6891a43b-05ce-4cad-bb03-f73f8c78f79b",
   "metadata": {},
   "source": [
    "#### Observation\n",
    "Some of the risky loan applications are\n",
    "1. small business loans for lowest and medium income groups\n",
    "\n",
    "2. Renewable energy loans for lower income group"
   ]
  },
  {
   "cell_type": "code",
   "execution_count": 342,
   "id": "4c5ea22f-362b-45ed-83f6-b820ce98206c",
   "metadata": {},
   "outputs": [
    {
     "data": {
      "image/png": "[encoded data removed]",
      "text/plain": [
       "<Figure size 1000x400 with 2 Axes>"
      ]
     },
     "metadata": {},
     "output_type": "display_data"
    }
   ],
   "source": [
    "# Plotting the annual_inc_range against dti_range\n",
    "Bivariate_Analysis(x='dti_range', y='annual_inc_range', figsize=(10,4))"
   ]
  },
  {
   "cell_type": "markdown",
   "id": "2b4f0860-2550-482c-b994-b2fa92f70fd6",
   "metadata": {},
   "source": [
    "#### Observation\n",
    "Medium debt-to-income group in the lowest income range poses the highest risk"
   ]
  },
  {
   "cell_type": "markdown",
   "id": "e9b8e279-033a-4b51-ad58-e580687e0b94",
   "metadata": {},
   "source": [
    "# Conclusion"
   ]
  },
  {
   "cell_type": "markdown",
   "id": "ffe11d48-e3b2-45e9-a6f5-7adaf8bb8354",
   "metadata": {},
   "source": [
    "1. Lowest income group i.e between 4000 and 36000 annual income have high chances of defaulting the loans\n",
    "2. High loan amounts are also leading to charge offs\n",
    "3. Loan applicants with high debt to income ratio has shown higher risk\n",
    "4. Verification process is faulty because verified applicants has shown greater charge off\n",
    "5. Applicants with history of bankruptcy has found to be risky\n",
    "6. small business loans for lowest and medium income groups and renewable energy loans for lower income group has shown greater Charge Off\n",
    "7.  NV, TN, AK are found to be risky states\n",
    "\n",
    "\n",
    "    We end our EDA here.We have taken many references from internet and our EDA Module since we were doing this for the first time. We found out some interesting patterns but we stuck to what is required for business. Hope our EDA results are useful.\n",
    "\n",
    "\n",
    "                                                n"
   ]
  },
  {
   "cell_type": "code",
   "execution_count": null,
   "id": "3af5cc7d-eea9-4ab3-b69f-10ce8a057c89",
   "metadata": {},
   "outputs": [],
   "source": []
  }
 ],
 "metadata": {
  "kernelspec": {
   "display_name": "Python 3 (ipykernel)",
   "language": "python",
   "name": "python3"
  },
  "language_info": {
   "codemirror_mode": {
    "name": "ipython",
    "version": 3
   },
   "file_extension": ".py",
   "mimetype": "text/x-python",
   "name": "python",
   "nbconvert_exporter": "python",
   "pygments_lexer": "ipython3",
   "version": "3.11.7"
  }
 },
 "nbformat": 4,
 "nbformat_minor": 5
}
